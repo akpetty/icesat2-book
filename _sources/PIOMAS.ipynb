{
 "cells": [
  {
   "cell_type": "markdown",
   "metadata": {},
   "source": [
    "# Historical ice thickness\n",
    "\n",
    "This notebook plots ICESat-2 sea ice thickness vs. PIOMAS sea ice thickness. \n",
    " \n",
    "**Input**:\n",
    " - NETCDF4 file from the jupyter book's google bucket\n",
    " \n",
    " \n",
    " **Output**: \n",
    "  - Plots of sea ice thickness "
   ]
  },
  {
   "cell_type": "markdown",
   "metadata": {},
   "source": [
    "```{tip}\n",
    "Try running this notebook in Google Colab! Toggle over the rocketship icon at the top of the page and click Colab to open a new window and run the notebook. <br><br>To run a single cell, type **Shift+Enter**. To run the whole notebook, under **Runtime** click **Run all**. Note that you will have to run the notebook from the very beginning and load all the Google Colab dependencies for the code to work.\n",
    "```"
   ]
  },
  {
   "cell_type": "code",
   "execution_count": 1,
   "metadata": {
    "tags": [
     "remove-cell"
    ]
   },
   "outputs": [],
   "source": [
    "#this cell will load dependencies for running the notebook in Google Colab\n",
    "#this cell may take a while to run\n",
    "import sys\n",
    "\n",
    "#if code is running in google colab, run these cells to install neccessary libraries\n",
    "if 'google.colab' in sys.modules: \n",
    "    !apt-get install -qq libgdal-dev libproj-dev\n",
    "    !pip install --no-binary shapely shapely --force\n",
    "    !pip install -q pyproj\n",
    "    !pip install cartopy\n",
    "    !pip install netcdf4\n",
    "    !pip install xarray==0.16.0"
   ]
  },
  {
   "cell_type": "markdown",
   "metadata": {},
   "source": [
    "## Import notebook dependencies"
   ]
  },
  {
   "cell_type": "code",
   "execution_count": 2,
   "metadata": {
    "tags": [
     "remove-output"
    ]
   },
   "outputs": [
    {
     "name": "stdout",
     "output_type": "stream",
     "text": [
      "Copying gs://icesat2-book-data/utils.py...\n",
      "- [1 files][ 14.5 KiB/ 14.5 KiB]                                                \n",
      "Operation completed over 1 objects/14.5 KiB.                                     \n"
     ]
    }
   ],
   "source": [
    "import os\n",
    "import numpy as np\n",
    "import xarray as xr\n",
    "import pandas as pd\n",
    "import scipy.interpolate\n",
    "import cartopy.crs as ccrs\n",
    "import cartopy.feature as cfeature\n",
    "import pyproj\n",
    "from datetime import date\n",
    "import matplotlib.pyplot as plt\n",
    "import numpy.ma as ma\n",
    "\n",
    "#axes needed for plotting\n",
    "from matplotlib.axes import Axes\n",
    "from cartopy.mpl.geoaxes import GeoAxes\n",
    "GeoAxes._pcolormesh_patched = Axes.pcolormesh\n",
    "\n",
    "# Ignore warnings in the notebook to improve display\n",
    "# You might want to remove this when debugging/writing new code\n",
    "import warnings\n",
    "warnings.filterwarnings('ignore')\n",
    " \n",
    "#increase resolution for notebook outputs\n",
    "%matplotlib inline \n",
    "%config InlineBackend.figure_format = 'retina' \n",
    "\n",
    "#import utils function \n",
    "if 'utils.py' not in os.listdir(os.getcwd()): \n",
    "    !gsutil cp gs://icesat2-book-data/utils.py ./\n",
    "import utils"
   ]
  },
  {
   "cell_type": "markdown",
   "metadata": {},
   "source": [
    "## Load data into notebook\n",
    "Copy file from the book's google bucket and load into an xarray dataset. "
   ]
  },
  {
   "cell_type": "code",
   "execution_count": 3,
   "metadata": {
    "tags": [
     "remove-output"
    ]
   },
   "outputs": [
    {
     "name": "stdout",
     "output_type": "stream",
     "text": [
      "Copying gs://icesat2-book-data/icesat2-book-dataset.nc...\n",
      "/ [1/1 files][138.4 MiB/138.4 MiB] 100% Done                                    \n",
      "Operation completed over 1 objects/138.4 MiB.                                    \n"
     ]
    }
   ],
   "source": [
    "!gsutil -m cp gs://icesat2-book-data/icesat2-book-winter-data.nc ./\n",
    "dataset = xr.open_dataset('icesat2-book-winter-data.nc')"
   ]
  },
  {
   "cell_type": "code",
   "execution_count": null,
   "metadata": {},
   "outputs": [],
   "source": []
  }
 ],
 "metadata": {
  "celltoolbar": "Tags",
  "kernelspec": {
   "display_name": "is2intenv",
   "language": "python",
   "name": "is2intenv"
  },
  "language_info": {
   "codemirror_mode": {
    "name": "ipython",
    "version": 3
   },
   "file_extension": ".py",
   "mimetype": "text/x-python",
   "name": "python",
   "nbconvert_exporter": "python",
   "pygments_lexer": "ipython3",
   "version": "3.7.7"
  }
 },
 "nbformat": 4,
 "nbformat_minor": 4
}
