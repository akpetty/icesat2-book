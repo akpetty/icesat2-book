{
 "cells": [
  {
   "cell_type": "markdown",
   "metadata": {},
   "source": [
    "# Sea ice drift\n",
    "\n",
    "This notebook plots [NSIDC sea ice motion vectors](https://nsidc.org/data/nsidc-0116). The main cause of sea ice motion is wind applying force on the surface of the ice. Visualizing the direction and magnitude of sea ice drift gives an understanding of where and how fast sea ice is moving. Here, we overlay sea ice drift vectors on other variables in the xarray dataset.  \n",
    " \n",
    "**Input**:\n",
    " - xarray dataset from the jupyter book's google bucket\n",
    " \n",
    " \n",
    " **Output**: \n",
    "  - Plots of sea ice drift"
   ]
  },
  {
   "cell_type": "markdown",
   "metadata": {},
   "source": [
    "```{tip}\n",
    "Try running this notebook in Google Colab! Toggle over the rocketship icon at the top of the page and click Colab to open a new window and run the notebook. <br><br>To run a single cell, type **Shift+Enter**. To run the whole notebook, under **Runtime** click **Run all**. Note that you will have to run the notebook from the very beginning and load all the Google Colab dependencies for the code to work.\n",
    "```"
   ]
  },
  {
   "cell_type": "code",
   "execution_count": null,
   "metadata": {
    "tags": [
     "remove-cell"
    ]
   },
   "outputs": [],
   "source": [
    "#this cell will load dependencies for running the notebook in Google Colab\n",
    "#this cell may take a while to run\n",
    "import sys\n",
    "\n",
    "#if code is running in google colab, run these cells to install neccessary libraries\n",
    "if 'google.colab' in sys.modules: \n",
    "    !apt-get install -qq libgdal-dev libproj-dev\n",
    "    !pip install --no-binary shapely shapely --force\n",
    "    !pip install -q pyproj\n",
    "    !pip install cartopy\n",
    "    !pip install netcdf4\n",
    "    !pip install xarray==0.16.0"
   ]
  },
  {
   "cell_type": "markdown",
   "metadata": {},
   "source": [
    "## Import notebook dependencies"
   ]
  },
  {
   "cell_type": "code",
   "execution_count": null,
   "metadata": {
    "tags": [
     "remove-output"
    ]
   },
   "outputs": [],
   "source": [
    "import os\n",
    "import numpy as np\n",
    "import xarray as xr\n",
    "import matplotlib.pyplot as plt\n",
    "import cartopy.crs as ccrs\n",
    "import cartopy.feature as cfeature\n",
    "import pyproj\n",
    "from textwrap import wrap\n",
    "import pandas as pd\n",
    "\n",
    "#axes needed for plotting\n",
    "from matplotlib.axes import Axes\n",
    "from cartopy.mpl.geoaxes import GeoAxes\n",
    "GeoAxes._pcolormesh_patched = Axes.pcolormesh\n",
    "\n",
    "#remove warnings to improve display\n",
    "import warnings\n",
    "warnings.filterwarnings('ignore')\n",
    "\n",
    "#increase resolution for notebook outputs\n",
    "%config InlineBackend.figure_format = 'retina'\n",
    "import matplotlib as mpl\n",
    "mpl.rcParams['figure.dpi'] = 125"
   ]
  },
  {
   "cell_type": "markdown",
   "metadata": {},
   "source": [
    "## Load data into notebook\n",
    "Copy file from the book's google bucket and load into an xarray dataset. "
   ]
  },
  {
   "cell_type": "code",
   "execution_count": null,
   "metadata": {
    "tags": [
     "remove-output"
    ]
   },
   "outputs": [],
   "source": [
    "!gsutil -m cp gs://is2-pso-seaice/icesat2-book-data.nc ./\n",
    "dataset = xr.open_dataset('icesat2-book-data.nc')"
   ]
  },
  {
   "cell_type": "markdown",
   "metadata": {},
   "source": [
    "## Plot one month of drift data "
   ]
  },
  {
   "cell_type": "markdown",
   "metadata": {},
   "source": [
    "### Define function"
   ]
  },
  {
   "cell_type": "code",
   "execution_count": null,
   "metadata": {},
   "outputs": [],
   "source": [
    "def plotDriftsOneMonth(dataset, dataVar, month, minval = 0, maxval = None, cbarTicks = None, cmap = 'YlGnBu', res = 4, scale_vec = 100, vector_val = 10, figPath = None): \n",
    "    \"\"\"Plots map of the arctic on North Pole Stereo projection with one month of data and drift vectors overlayed.\n",
    "   \n",
    "    Args:\n",
    "        dataset (xr Dataset): dataset from google bucket\n",
    "        dataVar (str): data variable of interest, to overlay vectors on\n",
    "        month (str): month and year of interest, i.e. 'Dec 2019' (does not need to be in any particular format)\n",
    "        minval (int): minimum drift value (default to 0 cm)\n",
    "        minval (int): maximum drift value (default to 15 cm)\n",
    "        cbarTicks (list or np array of length 2): ticks to use on colorbar (default to [0,5,10,15])\n",
    "        cmap (str, optional): color map (default to GnBu)\n",
    "        res (int): resolution to display vectors (default to 4)\n",
    "        scale_vec (int): scaling value for displaying vectors (default to 100)\n",
    "        vector_val (int): value of vector to display in quiver key (default to 10 cm)\n",
    "        figPath (str, optional): path to save fig (default to None)\n",
    "        \n",
    "    Returns:\n",
    "        Figure displayed in notebook \n",
    "    \n",
    "    Note: \n",
    "        Follows method from https://github.com/SciTools/cartopy/issues/1179\n",
    "    \"\"\"\n",
    "    #define projection and transform\n",
    "    proj = ccrs.NorthPolarStereo(central_longitude = -45)\n",
    "    transform = ccrs.PlateCarree()\n",
    "    \n",
    "    #initialize the figure and axes \n",
    "    fig = plt.figure(figsize=(5, 5))\n",
    "    ax = plt.axes(projection = proj)\n",
    "    \n",
    "    #plot vector magnitudes \n",
    "    uvelT = dataset.sel(time = month)['drifts_uT'].values[0]\n",
    "    vvelT = dataset.sel(time = month)['drifts_vT'].values[0]\n",
    "    \n",
    "    #define cbar ticks \n",
    "    cbarTicks = np.arange(minval, maxval + 1, 1) if cbarTicks is None else cbarTicks\n",
    "    \n",
    "    #plot data \n",
    "    im = dataset[dataVar].where(dataset['seaice_conc_monthly_cdr'] > 0.5).sel(time = month).plot(x = 'longitude', y = 'latitude', vmin = minval, \n",
    "                                vmax = maxval, extend = 'both', ax = ax, add_colorbar = True, transform = transform, zorder = 2, cmap = cmap,\n",
    "                                cbar_kwargs = {'label':\"\\n\".join(wrap(dataset[dataVar].attrs['long_name'] + ' (' + dataset[dataVar].attrs['units'] + ')', 40)), 'orientation': 'horizontal', 'shrink': 0.75, 'pad': 0.025})\n",
    "    \n",
    "    #add title\n",
    "    ax.set_title(\"\\n\".join(wrap(month + \": Drift vectors overlayed on \" + dataset[dataVar].attrs['long_name'], 36)), fontsize = 'x-large')\n",
    "    \n",
    "    #plot vectors \n",
    "    u_src_crs = uvelT / np.cos(dataset.latitude.values / 180 * np.pi)\n",
    "    v_src_crs = vvelT\n",
    "    magn_src_crs = np.sqrt(u_src_crs**2 + v_src_crs**2)\n",
    "    var_u_scaled = u_src_crs * dataset['drifts_magnitude'].sel(time = month).values[0] / magn_src_crs\n",
    "    var_v_scaled = v_src_crs * dataset['drifts_magnitude'].sel(time = month).values[0] / magn_src_crs\n",
    "    \n",
    "    #add quiver key\n",
    "    Q = ax.quiver(dataset.longitude.values[::res, ::res], dataset.latitude.values[::res, ::res], var_u_scaled[::res, ::res], \n",
    "        var_v_scaled[::res, ::res], transform = transform, units = 'inches', scale = scale_vec, zorder = 5)\n",
    "    qk = plt.quiverkey(Q, 0.85, 0.85, vector_val, str(vector_val) + ' ' + dataset['drifts_uT'].attrs['units'], coordinates = 'axes', zorder = 11, fontproperties = {'size': 12})   \n",
    "    \n",
    "    #add features to the map\n",
    "    ax.coastlines(linewidth = 0.15, color = 'black', zorder = 10) #add coastlines \n",
    "    ax.add_feature(cfeature.LAND, color ='0.95', zorder = 5) #add land \n",
    "    #ax.add_feature(cfeature.LAKES, color = 'grey', zorder = 5) #add lakes \n",
    "    ax.gridlines(draw_labels = False, linewidth = 0.25, color = 'gray', alpha = 0.7, linestyle = '--', zorder = 6) #add gridlines\n",
    "    ax.set_extent([-179, 179, 55, 90], crs = transform) #zoom in so map only displays the Arctic\n",
    "    \n",
    "    #save figure\n",
    "    if figPath != None:\n",
    "        plt.savefig(figPath, dpi = 200)\n",
    "        \n",
    "    #display figure\n",
    "    plt.show()"
   ]
  },
  {
   "cell_type": "markdown",
   "metadata": {},
   "source": [
    "### Plot map for drift vector magnitude"
   ]
  },
  {
   "cell_type": "code",
   "execution_count": null,
   "metadata": {},
   "outputs": [],
   "source": [
    "plotDriftsOneMonth(dataset, dataVar = 'drifts_magnitude', month = 'Jan 2019', maxval = 15, cbarTicks = np.arange(0, 15 + 5,5))"
   ]
  },
  {
   "cell_type": "markdown",
   "metadata": {},
   "source": [
    "### Plot map for ICESat-2 sea ice thickness"
   ]
  },
  {
   "cell_type": "code",
   "execution_count": null,
   "metadata": {},
   "outputs": [],
   "source": [
    "plotDriftsOneMonth(dataset, dataVar = 'ice_thickness_filled', month = 'Jan 2019', cmap = 'PuBu', maxval = 4)"
   ]
  },
  {
   "cell_type": "markdown",
   "metadata": {},
   "source": [
    "## Plot winter data\n",
    " - This function is modified from the plotDriftsOneMonth function above to plot 6 months of data instead of one\n",
    " - Winter is defined as the months Nov, Dec, Jan, Feb, Mar, Apr"
   ]
  },
  {
   "cell_type": "markdown",
   "metadata": {},
   "source": [
    "### Define function"
   ]
  },
  {
   "cell_type": "code",
   "execution_count": null,
   "metadata": {},
   "outputs": [],
   "source": [
    "def plotWinterDrifts(dataset, dataVar, minval, maxval, cbarTicks = None, title = \"\", cmap = 'YlGnBu', res = 6, scale_vec = 100, vector_val = 10, figPath = None):\n",
    "    \"\"\"Plot maps of the arctic on North Pole Stereo projection with several months of data overlayed, along with the sea ice edge for each month and sea ice drift. \n",
    "   \n",
    "    Args:\n",
    "        dataset (xr Dataset): dataset from google bucket\n",
    "        dataVar (str): variable of interest\n",
    "        minval, maxval (int): minimum and maximum values for the data variable \n",
    "        cbarTicks (list or np array of length 2): ticks to use on colorbar (default to [minval + 1, maxval +1])\n",
    "        title (str, optional): title of subplots (default to empty string)\n",
    "        cmap (str, optional): color map (default to viridis)\n",
    "        res (int): resolution to display vectors (default to 6)\n",
    "        scale_vec (int): scaling value for displaying vectors (default to 100)\n",
    "        vector_val (int): value of vector to display in quiver key (default to 10 cm)\n",
    "        figPath (str, optional): path to save fig (default to None)\n",
    "        \n",
    "    Returns:\n",
    "        Figure displayed in notebook \n",
    "\n",
    "    \"\"\"\n",
    "    #define projection and transform\n",
    "    proj = ccrs.NorthPolarStereo(central_longitude = -45)\n",
    "    transform = ccrs.PlateCarree()\n",
    "    \n",
    "    #initialize figure and axes\n",
    "    fig, axs = plt.subplots(nrows=2, ncols=3, figsize=(7.8, 5.8), subplot_kw={'projection': proj})\n",
    "    \n",
    "    for i in range(len(dataset.time)):\n",
    "        ax = axs.flatten()[i]\n",
    "        \n",
    "        #plot data \n",
    "        im = dataset[dataVar].where(dataset['seaice_conc_monthly_cdr'] > 0.5).isel(time = i).plot(x = 'longitude', y = 'latitude', vmin = minval, vmax = maxval, extend = 'both', \n",
    "                    ax = ax, add_colorbar = False, transform = transform, zorder = 2, cmap = cmap)\n",
    "    \n",
    "        #add features to map\n",
    "        ax.coastlines(linewidth=0.25, color = 'black', zorder = 10) #add coastlines \n",
    "        ax.add_feature(cfeature.LAND, color ='0.95', zorder = 5) #add land \n",
    "        ax.add_feature(cfeature.LAKES, color = 'grey', zorder = 5) #add lakes \n",
    "        ax.gridlines(draw_labels = False, linewidth = 0.25, color = 'gray', alpha = 0.75, linestyle='--', zorder = 6) #add gridlines\n",
    "        ax.set_extent([-179, 179, 50, 90], crs = transform) #zoom in so map only displays the Arctic\n",
    "        ax.set_title(pd.to_datetime(dataset.time.values).strftime('%B %Y')[i])\n",
    "        \n",
    "        #plot vectors\n",
    "        uvelT = dataset['drifts_uT'].isel(time = i).values\n",
    "        vvelT = dataset['drifts_vT'].isel(time = i).values\n",
    "        u_src_crs = uvelT / np.cos(dataset.latitude.values / 180 * np.pi)\n",
    "        v_src_crs = vvelT\n",
    "        magn_src_crs = np.sqrt(u_src_crs**2 + v_src_crs**2)\n",
    "        var_u_scaled = u_src_crs * dataset['drifts_magnitude'].isel(time = i).values / magn_src_crs\n",
    "        var_v_scaled = v_src_crs * dataset['drifts_magnitude'].isel(time = i).values / magn_src_crs\n",
    "\n",
    "        #add quiver key\n",
    "        Q = ax.quiver(dataset.longitude.values[::res, ::res], dataset.latitude.values[::res, ::res], var_u_scaled[::res, ::res], \n",
    "            var_v_scaled[::res, ::res], transform = transform, units = 'inches', scale = scale_vec, zorder = 7)\n",
    "        qk = plt.quiverkey(Q, 0.85, 0.85, vector_val, str(vector_val) + ' ' + dataset['drifts_uT'].attrs['units'], coordinates = 'axes', zorder = 11, fontproperties = {'size': 10})   \n",
    "\n",
    "        #add colorbar\n",
    "        cax = fig.add_axes([0.34, 0.08, 0.35, 0.03])\n",
    "        cb = fig.colorbar(im,cax = cax,extend='both',orientation = 'horizontal')\n",
    "        cbarTicks = np.arange(minval, maxval + 1, 1) if cbarTicks is None else cbarTicks\n",
    "        cb.set_ticks(cbarTicks)\n",
    "        cb.set_label(\"\\n\".join(wrap(dataset[dataVar].attrs['long_name'] + ' (' + dataset[dataVar].attrs['units'] + ')', 38)), fontsize = 11)\n",
    "        \n",
    "    #add a title\n",
    "    plt.suptitle(\"\\n\".join(wrap(title + ': ' + 'Drift vectors overlayed on ' + dataset[dataVar].attrs['long_name'], 55)), fontsize = 18, y = 1.03, fontweight = 'medium')\n",
    "    \n",
    "    #display options\n",
    "    plt.subplots_adjust(wspace=0.05, hspace=0.13)\n",
    "    plt.tight_layout()\n",
    "    \n",
    "    #save figure\n",
    "    if figPath != None:\n",
    "        plt.savefig(figPath, dpi = 200)\n",
    "        \n",
    "    #display figure\n",
    "    plt.show()"
   ]
  },
  {
   "cell_type": "markdown",
   "metadata": {},
   "source": [
    "### Plot maps for different data variables\n",
    "Here, we will call the winter plotting function on some of the variables in the dataset using different arguments for minimum & maximum values and colormap to allow for visualization of the data. "
   ]
  },
  {
   "cell_type": "markdown",
   "metadata": {},
   "source": [
    "#### Sea ice drift magnitude"
   ]
  },
  {
   "cell_type": "code",
   "execution_count": null,
   "metadata": {},
   "outputs": [],
   "source": [
    "#winter 2019-2020\n",
    "plotWinterDrifts(dataset.sel(time = slice('Nov 2018', 'Apr 2019')), dataVar = 'drifts_magnitude', cbarTicks = np.arange(0,15 + 5, 5),\n",
    "               minval = 0, maxval = 15, title = 'Winter 2018-2019')"
   ]
  },
  {
   "cell_type": "code",
   "execution_count": null,
   "metadata": {},
   "outputs": [],
   "source": [
    "#winter 2019-2020\n",
    "plotWinterDrifts(dataset.sel(time = slice('Nov 2019', 'Apr 2020')), dataVar = 'drifts_magnitude', cbarTicks = np.arange(0,15 + 5, 5),\n",
    "               minval = 0, maxval = 15, title = 'Winter 2019-2020')"
   ]
  },
  {
   "cell_type": "markdown",
   "metadata": {},
   "source": [
    "### ICESat-2 sea ice thickness"
   ]
  },
  {
   "cell_type": "code",
   "execution_count": null,
   "metadata": {},
   "outputs": [],
   "source": [
    "#winter 2018-2019\n",
    "plotWinterDrifts(dataset.sel(time = slice('Nov 2018', 'Apr 2019')), dataVar = 'ice_thickness_filled',\n",
    "               minval = 0, maxval = 4, cmap = 'PuBu', title = 'Winter 2018-19')"
   ]
  },
  {
   "cell_type": "code",
   "execution_count": null,
   "metadata": {},
   "outputs": [],
   "source": [
    "#winter 2019-2020\n",
    "plotWinterDrifts(dataset.sel(time = slice('Nov 2019', 'Apr 2020')), dataVar = 'ice_thickness_filled',\n",
    "               minval = 0, maxval = 4, cmap = 'PuBu', title = 'Winter 2019-2020')"
   ]
  },
  {
   "cell_type": "code",
   "execution_count": null,
   "metadata": {},
   "outputs": [],
   "source": []
  }
 ],
 "metadata": {
  "celltoolbar": "Tags",
  "kernelspec": {
   "display_name": "Python 3",
   "language": "python",
   "name": "python3"
  },
  "language_info": {
   "codemirror_mode": {
    "name": "ipython",
    "version": 3
   },
   "file_extension": ".py",
   "mimetype": "text/x-python",
   "name": "python",
   "nbconvert_exporter": "python",
   "pygments_lexer": "ipython3",
   "version": "3.7.9"
  }
 },
 "nbformat": 4,
 "nbformat_minor": 4
}
