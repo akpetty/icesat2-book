{
 "cells": [
  {
   "cell_type": "markdown",
   "metadata": {},
   "source": [
    "# Data wrangling\n",
    "\n",
    "This notebook loads the different datasets used in the analysis into a single NETCDF4 file, with descriptive attributes maintained for each dataset. Each dataset is regridded to the ICESat2 grid shape [304, 448] (x,y). The datasets used in this notebook are listed below. The output file is accessible in the [google cloud storage bucket](https://console.cloud.google.com/storage/browser/sea-ice-thickness-data) for this jupyter book and loaded in each notebook. "
   ]
  },
  {
   "cell_type": "markdown",
   "metadata": {},
   "source": [
    "## Details on each dataset\n",
    "Detailed information about each of the datasets used to compile the final data product are provided below in the order they appear in the notebook workflow. The information provided here was last updated 08-21-2021. \n",
    "\n",
    "### ATLAS/ICESat-2 Monthly Gridded Sea Ice Freeboard\n",
    "- **Product Type**: Northern hemisphere gridded monthly means\n",
    "- **Download link**: \n",
    "    - NSIDC (recommended method): https://nsidc.org/data/ATL20\n",
    "    - Our google storage bucket (provided for compatibility with this Jupyter Book): https://console.cloud.google.com/storage/browser/sea-ice-thickness-data\n",
    "- **Reference**: Petty, A. A., R. Kwok, M. Bagnardi, A. Ivanoff, N. Kurtz, J. Lee, J. Wimert, and D. Hancock. 2021. ATLAS/ICESat-2 L3B Daily and Monthly Gridded Sea Ice Freeboard, Version 2. Northern hemisphere gridded monthly means. Boulder, Colorado USA. NASA National Snow and Ice Data Center Distributed Active Archive Center. doi: https://doi.org/10.5067/ATLAS/ATL20.002. 08-21-2021.\n",
    "\n",
    "### NOAA/NSIDC Climate Data Record of Passive Microwave Sea Ice Concentration\n",
    "- **Variables used**: NOAA/NSIDC sea ice concentration CDR \n",
    "- **Download link**: https://nsidc.org/data/g02202\n",
    "- **Reference**: Meier, W. N., F. Fetterer, A. K. Windnagel, and S. Stewart. 2021. NOAA/NSIDC Climate Data Record of Passive Microwave Sea Ice Concentration, Version 4. Mean monthly aggregated, northern hemisphere. Boulder, Colorado USA. NSIDC: National Snow and Ice Data Center https://doi.org/10.7265/efmz-2t65. 08-21-2021.\n",
    "- **NOTE**: This is provided as a data variable in the ICESat2 monthly gridded product\n",
    "\n",
    "### ERA5 monthly averaged data on single levels\n",
    "- **Variables used**: 2m temperature; Mean surface downward long-wave radiation flux\n",
    "- **Product type**: Monthly averaged reanalysis \n",
    "- **Download link**: https://cds.climate.copernicus.eu/cdsapp#!/dataset/reanalysis-era5-single-levels-monthly-means\n",
    "- **Reference**: Hersbach, H., Bell, B., Berrisford, P., Biavati, G., Horányi, A., Muñoz Sabater, J., Nicolas, J., Peubey, C., Radu, R., Rozum, I., Schepers, D., Simmons, A., Soci, C., Dee, D., Thépaut, J-N. (2019): ERA5 monthly averaged data on single levels from 1979 to present. Copernicus Climate Change Service (C3S) Climate Data Store (CDS). (Accessed on 16-08-2021), 10.24381/cds.f17050d7\n",
    "\n",
    "### PIOMAS mean monthly ice thickness\n",
    "- **Product Type**: Sea ice thickness (Volume per unit Area), monthly mean\n",
    "- **Variables used**: Sea ice thickness (Volume per unit Area) monthly mean; Grid lon and lat for scalar fields (txt file) \n",
    "- **Download link**: http://psc.apl.uw.edu/research/projects/arctic-sea-ice-volume-anomaly/data/model_grid\n",
    "- **Reference**: Zhang, Jinlun and D.A. Rothrock: Modeling global sea ice with a thickness and enthalpy distribution model in generalized curvilinear coordinates, Mon. Wea. Rev. 131(5), 681-697, 2003.\n",
    "- **NOTE**: You'll want to download the heff format data product, not the text file. For some reason, just clicking on the gzipped file to unzip it raises an error on my computer that the archive is empty (which is not true!). You'll need to unzip the file using the command line; i.e. `gzip -d file.gz`\n",
    "\n",
    "### Global Low Resolution Sea Ice Drifts from the European Organization for the Exploitation of Meteorological Satellites (EUMETSAT) Ocean and Sea Ice Satellite Application Facility (OSI SAF)\n",
    "- **Product Type**: Global Low Resolution Sea Ice Drift  \n",
    "- **Download link**: https://osi-saf.eumetsat.int/products/osi-405-c\n",
    "- **Reference**: Lavergne, T., Eastwood, S., Teffah, Z., Schyberg, H., and Breivik, L.-A.: Sea ice motion from low-resolution satellite sensors: An alternative method and its validation in the Arctic, J. Geophys. Res., 115, C10032, https://doi.org/10.1029/2009JC005958, 2010."
   ]
  },
  {
   "cell_type": "markdown",
   "metadata": {},
   "source": [
    "```{note}\n",
    "Although you'll see an option to run this notebook in Binder, this notebook is **NOT** configured to run in Binder. If you want to wrangle the data yourself, each dataset used to compile the final data product can be downloaded from the links above. The final data product produced by this notebook can be downloaded from the google storage bucket associated with this jupyter book.\n",
    "```"
   ]
  },
  {
   "cell_type": "markdown",
   "metadata": {},
   "source": [
    "# Import notebook dependencies"
   ]
  },
  {
   "cell_type": "code",
   "execution_count": 1,
   "metadata": {},
   "outputs": [],
   "source": [
    "import os\n",
    "import numpy as np\n",
    "import xarray as xr\n",
    "import pandas as pd\n",
    "from datetime import date\n",
    "import pyproj \n",
    "import scipy.interpolate \n",
    "from glob import glob\n",
    "import matplotlib.pyplot as plt\n",
    "from utils.read_data_utils import read_is2_data # This allows us to read the ICESAT2 data directly from the google storage bucket\n",
    "\n",
    "# Ignore warnings in the notebook to improve display\n",
    "import warnings\n",
    "warnings.filterwarnings('ignore')"
   ]
  },
  {
   "cell_type": "markdown",
   "metadata": {},
   "source": [
    "# Read in data"
   ]
  },
  {
   "cell_type": "markdown",
   "metadata": {},
   "source": [
    "## Define filepaths\n",
    "Define filepaths to data on your local machine"
   ]
  },
  {
   "cell_type": "code",
   "execution_count": 2,
   "metadata": {},
   "outputs": [],
   "source": [
    "ERA5_path = ''        # ERA5 monthly averaged data on single levels\n",
    "PIOMAS_path = ''      # PIOMAS mean monthly ice thickness\n",
    "drift_path = ''       # Polar Pathfinder Daily 25 km EASE-Grid Sea Ice Motion Vectors"
   ]
  },
  {
   "cell_type": "code",
   "execution_count": 2,
   "metadata": {
    "tags": [
     "remove-cell"
    ]
   },
   "outputs": [],
   "source": [
    "#Filepaths on User's computer; cells removed in jupyter book\n",
    "localDirectory = '../icesat2-book-data/'                         \n",
    "ERA5_path = localDirectory  + 'ERA5/ERA5_monthly_reanalysis.nc' \n",
    "PIOMAS_path = localDirectory + 'PIOMAS/'                         \n",
    "drifts_path = localDirectory + 'OSI_SAF_drifts/'           "
   ]
  },
  {
   "cell_type": "markdown",
   "metadata": {},
   "source": [
    "## Set date range of interest\n",
    "We'll restrict data to this date range, corresponding to years/months in our later analysis"
   ]
  },
  {
   "cell_type": "code",
   "execution_count": 4,
   "metadata": {},
   "outputs": [
    {
     "name": "stdout",
     "output_type": "stream",
     "text": [
      "DatetimeIndex(['2018-11-01', '2018-12-01', '2019-01-01', '2019-02-01',\n",
      "               '2019-03-01', '2019-04-01', '2019-05-01', '2019-06-01',\n",
      "               '2019-07-01', '2019-08-01', '2019-09-01', '2019-10-01',\n",
      "               '2019-11-01', '2019-12-01', '2020-01-01', '2020-02-01',\n",
      "               '2020-03-01', '2020-04-01', '2020-05-01', '2020-06-01',\n",
      "               '2020-07-01', '2020-08-01', '2020-09-01', '2020-10-01',\n",
      "               '2020-11-01', '2020-12-01', '2021-01-01', '2021-02-01',\n",
      "               '2021-03-01', '2021-04-01'],\n",
      "              dtype='datetime64[ns]', freq='MS')\n"
     ]
    }
   ],
   "source": [
    "start_date = \"Nov 2018\"\n",
    "end_date = \"Apr 2021\"\n",
    "date_range = pd.date_range(start=start_date, end=end_date, freq='MS') # MS indicates a time frequency of start of the month\n",
    "print(date_range)"
   ]
  },
  {
   "cell_type": "markdown",
   "metadata": {},
   "source": [
    "## ICESat-2 gridded monthly means"
   ]
  },
  {
   "cell_type": "code",
   "execution_count": 5,
   "metadata": {
    "tags": [
     "hide-output"
    ]
   },
   "outputs": [],
   "source": [
    "is2_ds = read_is2_data(data_dir=\"IS2SITMOGR4/v002\")"
   ]
  },
  {
   "cell_type": "markdown",
   "metadata": {},
   "source": [
    "## ERA5 climate reanalysis "
   ]
  },
  {
   "cell_type": "code",
   "execution_count": 6,
   "metadata": {},
   "outputs": [],
   "source": [
    "# Read data \n",
    "ERA5 = xr.open_dataset(ERA5_path)\n",
    "ERA5 = ERA5.sel(time = date_range) # Select for date range of interest\n",
    "ERA5 = ERA5.where(ERA5.latitude > is2_ds.latitude.min()) # Restrict to ICESat-2 latitude\n",
    "ERA5 = ERA5.sel(expver = 1).drop('expver') # Remove weird variable\n",
    "\n",
    "# Convert t2m temperature from Kelvin to Celcius \n",
    "tempCelcius = ERA5['t2m'] - 283.15\n",
    "tempCelcius.attrs['units'] = 'C' # Change units attribute to C (Celcius)\n",
    "tempCelcius.attrs['long_name'] = '2 meter temperature'\n",
    "ERA5 = ERA5.assign(t2m = tempCelcius) #Add to dataset as a new data variable\n",
    "\n",
    "# Add descriptive attributes \n",
    "ERA5.attrs = {'description': 'era5 monthly averaged data on single levels from 1979 to present', \n",
    "              'website': 'https://cds.climate.copernicus.eu/cdsapp#!/dataset/reanalysis-era5-single-levels-monthly-means?tab=overview', \n",
    "              'contact': 'copernicus-support@ecmwf.int',\n",
    "              'citation': 'Copernicus Climate Change Service (C3S) (2017): ERA5: Fifth generation of ECMWF atmospheric reanalyses of the global climate . Copernicus Climate Change Service Climate Data Store (CDS), July 2020. https://cds.climate.copernicus.eu/cdsapp#!/home'}"
   ]
  },
  {
   "cell_type": "markdown",
   "metadata": {},
   "source": [
    "## PIOMAS sea ice thickness "
   ]
  },
  {
   "cell_type": "code",
   "execution_count": 7,
   "metadata": {},
   "outputs": [],
   "source": [
    "def get_piomas_data(date_range, data_dir): \n",
    "    \"\"\" Read in a PIOMAS yearly files and convert to an xr.DataArray object \n",
    "    \n",
    "    Args: \n",
    "        date_range (pandas DatetimeIndex): date range to grab data for \n",
    "        data_dir (str): directory containing data on local drive \n",
    "    \n",
    "    Returns: \n",
    "        PIO_da (xr.DataArray): dataset object containing data for input date range\n",
    "    \n",
    "    \"\"\"\n",
    "\n",
    "    start_year = date_range[0].year\n",
    "    end_year = date_range[-1].year\n",
    "\n",
    "    pio_by_yr = []\n",
    "    for year in range(start_year, end_year+1): \n",
    "\n",
    "        # Most recent year may not have a complete year of data\n",
    "        # We need to reshape the data to match the number of months available, such that the shape of the numpy array is [month, 120, 360]\n",
    "        i = 1\n",
    "        while i <= 12: \n",
    "            data = open(data_dir + 'heff.H' + str(year), 'rb') \n",
    "            try: \n",
    "                pio_np = list(np.fromfile(file = data, dtype='f').reshape([i, 120, 360]))\n",
    "                break\n",
    "            except: \n",
    "                i += 1\n",
    "        pio_by_yr += (pio_np)\n",
    "        \n",
    "    # Get latitude and longitude \n",
    "    gridP = np.loadtxt(data_dir + 'grid.dat.txt')\n",
    "    lonsP = gridP[0:4320, :].flatten()\n",
    "    lonsP = np.reshape(lonsP, [120,360])\n",
    "    latsP = gridP[4320:, :].flatten()\n",
    "    latsP = np.reshape(latsP, [120,360])\n",
    "\n",
    "    # Load dataList as an xr.DataArray and add descriptive attributes and coordinates\n",
    "    time = pd.date_range(start = str(start_year), end = str(end_year) + \"-\" + str(i), freq = 'MS')\n",
    "    PIOMAS_da = xr.DataArray(pio_by_yr, \n",
    "                             dims = ['time','y','x'], \n",
    "                             coords = {'time': time, 'longitude': (('y','x'), lonsP), 'latitude': (('y','x'), latsP)}, \n",
    "                             attrs = {'units': 'meters', \n",
    "                                      'long_name': 'PIOMAS sea ice thickness', \n",
    "                                      'data_download': 'http://psc.apl.uw.edu/research/projects/arctic-sea-ice-volume-anomaly/data/', \n",
    "                                      'download_date': '08-2020',\n",
    "                                       'citation': 'Zhang, J.L. and D.A. Rothrock, “Modeling global sea ice with a thickness and enthalpy distribution model in generalized curvilinear coordinates“, Mon. Weather Rev., 131, 845-861, 2003'}, \n",
    "                             name = \"piomas_ice_thickness\")\n",
    "    PIOMAS_da = PIOMAS_da.sel(time = date_range)\n",
    "\n",
    "    return PIOMAS_da"
   ]
  },
  {
   "cell_type": "code",
   "execution_count": 8,
   "metadata": {},
   "outputs": [],
   "source": [
    "pio_da = get_piomas_data(date_range=date_range, data_dir=PIOMAS_path)\n",
    "pio_da = pio_da.sel(time=date_range) # Select for date range of interest\n",
    "pio_da = pio_da.where(pio_da.latitude > is2_ds.latitude.min()) # Restrict to ICESat-2 latitude "
   ]
  },
  {
   "cell_type": "markdown",
   "metadata": {},
   "source": [
    "## OSI-SAF Sea Ice Drifts\n",
    "First, we read in the data and resample it to produce monthly means. Then, we reproject the data to the ICESat-2 projection (EPSG 3411). "
   ]
  },
  {
   "cell_type": "code",
   "execution_count": 9,
   "metadata": {
    "code_folding": []
   },
   "outputs": [],
   "source": [
    "def get_projected_vectors(fmonthly, proj):\n",
    "    \"\"\" Project osisaf drifts to map projection (x/y pointing in the new map projection coordinates)\n",
    "    \n",
    "    Args: \n",
    "        fmonthly (xr.Dataset): monthly OSI-SAF vectors \n",
    "        proj (str): map projection to use (i.e. pyproj.Proj(\"+init=EPSG:3411\"))\n",
    "    \n",
    "    Returns: \n",
    "        fmonthly (xr.Dataset): input data reprojected to proj \n",
    "    \n",
    "    \"\"\" \n",
    "    \n",
    "    # Transform to map project coordinates (basemap's axes, assume they have unit of m)\n",
    "    x0, y0=proj(fmonthly.lon, fmonthly.lat)\n",
    "    x1, y1=proj(fmonthly.lon1, fmonthly.lat1)\n",
    "\n",
    "    # Normalize drift components to m/s (x1-x0 is already m, so we just divide by 2-days worth of seconds)\n",
    "    xt=(x1-x0)/(60*60*24*2.)\n",
    "    yt=(y1-y0)/(60*60*24*2.)\n",
    "    \n",
    "    fmonthly['xpts'] = xr.DataArray(x0, dims=['yc', 'xc']) \n",
    "    \n",
    "    fmonthly['ypts'] = xr.DataArray(y0, dims=['yc', 'xc']) \n",
    "    \n",
    "    fmonthly['x_vel'] = xr.DataArray(xt, dims=['time', 'yc', 'xc']) \n",
    "    \n",
    "    fmonthly['y_vel'] = xr.DataArray(yt, dims=['time', 'yc', 'xc']) \n",
    "    \n",
    "    fmonthly['mag_vel'] = xr.DataArray(np.sqrt(xt**2+yt**2), dims=['time', 'yc', 'xc']) \n",
    "\n",
    "    fmonthly = fmonthly.drop(['dt0', 'dt1', 'lon1', 'lat1', 'dX', 'dY'])\n",
    "    \n",
    "    # Do some filtering as we're getting some weird values in the Canadian Archipelago\n",
    "    fmonthly = fmonthly.where(fmonthly.mag_vel<1)\n",
    "\n",
    "    # Add attributes\n",
    "    fmonthly.x_vel.attrs = {'description':'along-x component of the ice motion', 'units':'cm/s', 'long_name':'sea ice x velocity'}\n",
    "    fmonthly.y_vel.attrs = {'description':'along-y component of the ice motion', 'units':'cm/s', 'long_name':'sea ice y velocity'}\n",
    "    fmonthly.mag_vel.attrs = {'long_name': 'drift vector magnitude', 'units':'cm/s'}\n",
    "    fmonthly.attrs['citation'] = 'Lavergne, T., Eastwood, S., Teffah, Z., Schyberg, H., and Breivik, L.-A.: Sea ice motion from low-resolution satellite sensors: An alternative method and its validation in the Arctic, J. Geophys. Res., 115, C10032, https://doi.org/10.1029/2009JC005958, 2010.'\n",
    "    \n",
    "    return fmonthly"
   ]
  },
  {
   "cell_type": "code",
   "execution_count": 10,
   "metadata": {},
   "outputs": [],
   "source": [
    "# Read in data \n",
    "files = [os.path.join(path, name) for path, subdirs, files in os.walk(drifts_path) for name in files if name.endswith('.nc') and \"nh\" in name]\n",
    "files_xr = [xr.open_dataset(file) for file in files]\n",
    "driftsDaily = xr.concat(files_xr, dim='time').sortby(\"time\")\n",
    "\n",
    "# Resample monthly \n",
    "driftsMonthly = driftsDaily.resample(time='MS', keep_attrs = True).mean() \n",
    "\n",
    "# Project to CRS of ICeSat-2 grid\n",
    "monthlyDrifts_proj = get_projected_vectors(fmonthly=driftsMonthly.copy(), proj=pyproj.Proj(\"+init=EPSG:3411\"))"
   ]
  },
  {
   "cell_type": "markdown",
   "metadata": {},
   "source": [
    "# Regrid all datasets to ICESat-2 grid \n",
    "In order to merge all the datasets into a singe netcdf4 file, they need to be on the same grid.  "
   ]
  },
  {
   "cell_type": "code",
   "execution_count": 11,
   "metadata": {},
   "outputs": [],
   "source": [
    "# Initialize map projection and project data to it\n",
    "out_proj = 'EPSG:3411'\n",
    "out_lons = is2_ds.longitude.values\n",
    "out_lats = is2_ds.latitude.values\n",
    "\n",
    "mapProj = pyproj.Proj(\"+init=\" + out_proj)\n",
    "xptsIS2, yptsIS2 = mapProj(out_lons, out_lats)"
   ]
  },
  {
   "cell_type": "code",
   "execution_count": 12,
   "metadata": {},
   "outputs": [],
   "source": [
    "def regridToICESat2(dataArrayNEW, xptsNEW, yptsNEW, xptsIS2, yptsIS2):  \n",
    "    \"\"\" Regrid new data to ICESat-2 grid \n",
    "    \n",
    "    Args: \n",
    "        dataArrayNEW (xarray DataArray): DataArray to be gridded to ICESat-2 grid \n",
    "        xptsNEW (numpy array): x-values of dataArrayNEW projected to ICESat-2 map projection \n",
    "        yptsNEW (numpy array): y-values of dataArrayNEW projected to ICESat-2 map projection \n",
    "        xptsIS2 (numpy array): ICESat-2 longitude projected to ICESat-2 map projection\n",
    "        yptsIS2 (numpy array): ICESat-2 latitude projected to ICESat-2 map projection\n",
    "    \n",
    "    Returns: \n",
    "        gridded (numpy array): data regridded to ICESat-2 map projection\n",
    "    \n",
    "    \"\"\"\n",
    "    gridded = []\n",
    "    for i in range(len(dataArrayNEW.values)): \n",
    "        monthlyGridded = scipy.interpolate.griddata((xptsNEW.flatten(),yptsNEW.flatten()), dataArrayNEW.values[i].flatten(), (xptsIS2, yptsIS2), method = 'nearest')\n",
    "        gridded.append(monthlyGridded)\n",
    "    gridded = np.array(gridded)\n",
    "    return gridded"
   ]
  },
  {
   "cell_type": "markdown",
   "metadata": {},
   "source": [
    "## ERA5 climate reanalysis"
   ]
  },
  {
   "cell_type": "code",
   "execution_count": 13,
   "metadata": {},
   "outputs": [],
   "source": [
    "# Choose data variables of interest \n",
    "ERA5Vars = ['t2m','msdwlwrf']\n",
    "\n",
    "#initialize map projection and project data to it\n",
    "mapProj = pyproj.Proj(\"+init=\" + out_proj)\n",
    "xptsERA, yptsERA = mapProj(*np.meshgrid(ERA5.longitude.values, ERA5.latitude.values))\n",
    "xptsIS2, yptsIS2 = mapProj(out_lons, out_lats)\n",
    "\n",
    "ERA5_list = []\n",
    "for var in ERA5Vars: \n",
    "    ERA5gridded = regridToICESat2(ERA5[var], xptsERA, yptsERA, xptsIS2, yptsIS2) \n",
    "    ERAArray = xr.DataArray(data = ERA5gridded, \n",
    "                            dims = ['time', 'y', 'x'], \n",
    "                            coords = {'latitude': (('y','x'), out_lats), 'longitude': (('y','x'), out_lons), 'time':ERA5.time.values}, \n",
    "                            name = var)\n",
    "    ERAArray.attrs = ERA5[var].attrs # Maintain descriptive attributes\n",
    "    ERAArray = ERAArray.assign_attrs(ERA5.attrs)\n",
    "    ERA5_list.append(ERAArray)\n",
    "ERA5_regridded = xr.merge(ERA5_list)"
   ]
  },
  {
   "cell_type": "markdown",
   "metadata": {},
   "source": [
    "## PIOMAS sea ice thickness "
   ]
  },
  {
   "cell_type": "code",
   "execution_count": 14,
   "metadata": {},
   "outputs": [],
   "source": [
    "#project data to ICESat-2 map projection\n",
    "xptsPIO, yptsPIO = mapProj(pio_da.longitude.values, pio_da.latitude.values)\n",
    "\n",
    "#regrid data \n",
    "pio_regridded = regridToICESat2(pio_da, xptsPIO, yptsPIO, xptsIS2, yptsIS2)\n",
    "pio_regridded = xr.DataArray(data = pio_regridded, \n",
    "                             dims = ['time', 'y', 'x'], \n",
    "                             coords = {'latitude': (('y','x'), out_lats), 'longitude': (('y','x'), out_lons), 'time': pio_da.time.values}, \n",
    "                             name = pio_da.name)\n",
    "pio_regridded = pio_regridded.assign_attrs(pio_da.attrs)\n",
    "pio_regridded = pio_regridded.to_dataset()"
   ]
  },
  {
   "cell_type": "markdown",
   "metadata": {},
   "source": [
    "## OSI-SAF Sea Ice Drifts"
   ]
  },
  {
   "cell_type": "code",
   "execution_count": 15,
   "metadata": {},
   "outputs": [],
   "source": [
    "#project data to ICESat-2 map projection\n",
    "xptsDRIFTS, yptsDRIFTS = mapProj(monthlyDrifts_proj.lon.values, monthlyDrifts_proj.lat.values)\n",
    "\n",
    "# Loop through variables of interest and regrid \n",
    "drifts_list = []\n",
    "for var in [\"x_vel\",\"y_vel\"]: \n",
    "    driftsGridded = regridToICESat2(monthlyDrifts_proj[var], xptsDRIFTS, yptsDRIFTS, xptsIS2, yptsIS2)\n",
    "\n",
    "    driftsArray = xr.DataArray(data = driftsGridded, \n",
    "                               dims = ['time', 'y', 'x'], \n",
    "                               coords = {'latitude': (('y','x'), out_lats), 'longitude': (('y','x'), out_lons), \"time\": monthlyDrifts_proj.time.values}, \n",
    "                               name = var)\n",
    "\n",
    "    driftsArray.attrs = monthlyDrifts_proj[var].attrs\n",
    "    driftsArray = driftsArray.assign_attrs(monthlyDrifts_proj.attrs)\n",
    "    drifts_list.append(driftsArray)\n",
    "\n",
    "drifts_regridded = xr.merge(drifts_list)"
   ]
  },
  {
   "cell_type": "markdown",
   "metadata": {},
   "source": [
    "# Compile and save final dataset\n",
    "Now that all the data is on the same grid, we can use xarray to merge all the datasets."
   ]
  },
  {
   "cell_type": "markdown",
   "metadata": {},
   "source": [
    "## Combine datasets"
   ]
  },
  {
   "cell_type": "code",
   "execution_count": 16,
   "metadata": {},
   "outputs": [],
   "source": [
    "final_ds = xr.merge([is2_ds, pio_regridded, ERA5_regridded, drifts_regridded])\n",
    "final_ds = final_ds.sel(time=slice(\"Nov 2018\",final_ds.time.values[-1])) # Remove Sep & Oct 2018, which have no data from ICESat-2"
   ]
  },
  {
   "cell_type": "markdown",
   "metadata": {},
   "source": [
    "## Save data to local machine as a netcdf4 file\n",
    "We also uploaded this same file to the google storage bucket. "
   ]
  },
  {
   "cell_type": "code",
   "execution_count": 18,
   "metadata": {},
   "outputs": [
    {
     "name": "stdout",
     "output_type": "stream",
     "text": [
      "File \"icesat2-book-data.nc\" saved to directory \"/Users/nicolekeeney/code/icesat2-book\"\n",
      "File \"icesat2-book-data.nc\" saved to directory \"../icesat2-book-data/\n"
     ]
    }
   ],
   "source": [
    "filename = './data/icesat2-book-data.nc'\n",
    "save_file = True\n",
    "\n",
    "if (save_file == True):\n",
    "    try: \n",
    "        final_ds.to_netcdf(path=filename, format='NETCDF4', mode='w')\n",
    "        print('File ' + '\"%s\"' % filename + ' saved to directory ' + '\"%s\"' % os.getcwd())\n",
    "    except: \n",
    "        print(\"Cannot save file because file by same name already exists\")\n",
    "\n",
    "else: \n",
    "    pass"
   ]
  }
 ],
 "metadata": {
  "celltoolbar": "Tags",
  "kernelspec": {
   "display_name": "Python 3 (ipykernel)",
   "language": "python",
   "name": "python3"
  },
  "language_info": {
   "codemirror_mode": {
    "name": "ipython",
    "version": 3
   },
   "file_extension": ".py",
   "mimetype": "text/x-python",
   "name": "python",
   "nbconvert_exporter": "python",
   "pygments_lexer": "ipython3",
   "version": "3.8.12"
  }
 },
 "nbformat": 4,
 "nbformat_minor": 4
}
