{
 "cells": [
  {
   "cell_type": "code",
   "execution_count": null,
   "id": "99c4541f",
   "metadata": {},
   "outputs": [],
   "source": []
  },
  {
   "cell_type": "markdown",
   "id": "56347666",
   "metadata": {},
   "source": [
    "# Interactive winter thickness data maps\n",
    "Here, we'll use the `interactiveArcticMaps` function to display the data. You can change the variable to display by changing `data_var` in the code cell below if you run the notebook in Binder. "
   ]
  },
  {
   "cell_type": "code",
   "execution_count": null,
   "id": "c8e1d9a1",
   "metadata": {},
   "outputs": [],
   "source": [
    "data_var = \"freeboard\"\n",
    "interactiveArcticMaps(book_ds[data_var], frame_width=500)"
   ]
  },
  {
   "cell_type": "code",
   "execution_count": null,
   "id": "881eb02c",
   "metadata": {},
   "outputs": [],
   "source": [
    "\n",
    "pl = interactive_winter_mean_maps(book_ds[\"ice_thickness_int\"], \n",
    "                                  years=years,  \n",
    "                                  slider=True, \n",
    "                                  frame_width=500, \n",
    "                                  title=\"ICESat-2 sea ice thickness winter means\")\n",
    "display(pl)\n"
   ]
  }
 ],
 "metadata": {
  "kernelspec": {
   "display_name": "Python 3 (ipykernel)",
   "language": "python",
   "name": "python3"
  },
  "language_info": {
   "codemirror_mode": {
    "name": "ipython",
    "version": 3
   },
   "file_extension": ".py",
   "mimetype": "text/x-python",
   "name": "python",
   "nbconvert_exporter": "python",
   "pygments_lexer": "ipython3",
   "version": "3.9.15"
  }
 },
 "nbformat": 4,
 "nbformat_minor": 5
}
