{
 "cells": [
  {
   "cell_type": "markdown",
   "id": "f40a2287",
   "metadata": {},
   "source": [
    "# ICESat-2 interpolation workflow\n",
    "Producing the ICESat-2 interpolated data variables followed a series of steps: using linear interpolation to fill in missing data, smoothing the data using gaussian smoothing, and then restricting the resulting interpolated/smoothed data using a KDTree method. Below, we detail the methods undertaken and demonstrate the effect each step has on the raw sea ice thickness data. "
   ]
  },
  {
   "cell_type": "code",
   "execution_count": null,
   "id": "32c9b02a",
   "metadata": {},
   "outputs": [],
   "source": [
    "import xarray as xr # For working with gridded climate data \n",
    "import pandas as pd\n",
    "import numpy as np\n",
    "from utils.read_data_utils import read_book_data # Helper function for reading the data from the bucket\n",
    "from utils.plotting_utils import interactiveArcticMaps\n",
    "\n",
    "# Interpolating/smoothing packages \n",
    "from scipy.interpolate import griddata\n",
    "from scipy.spatial import KDTree\n",
    "from astropy.convolution import convolve\n",
    "from astropy.convolution import Gaussian2DKernel\n",
    "\n",
    "# Plotting dependencies\n",
    "import cartopy.crs as ccrs\n",
    "import holoviews as hv\n",
    "import matplotlib.pyplot as plt\n",
    "from matplotlib.axes import Axes\n",
    "from cartopy.mpl.geoaxes import GeoAxes\n",
    "GeoAxes._pcolormesh_patched = Axes.pcolormesh # Helps avoid some weird issues with the polar projection \n",
    "%config InlineBackend.figure_format = 'retina'\n",
    "import matplotlib as mpl\n",
    "mpl.rcParams['figure.dpi'] = 150 # Sets figure size in the notebook\n",
    "\n",
    "# Remove warnings to improve display\n",
    "import warnings \n",
    "warnings.filterwarnings('ignore') "
   ]
  },
  {
   "cell_type": "markdown",
   "id": "62c49975",
   "metadata": {},
   "source": [
    "# Read in the data\n",
    "Here, we'll read in the data from the book dataset, and then grab the data variables and their associated grid coordinated (xgrid and ygrid) as numpy arrays.<br><br>For simplicity, we'll just use data from a single month in this notebook, but this method has been applied across all months in the interpolated data variables in the book dataset. "
   ]
  },
  {
   "cell_type": "code",
   "execution_count": null,
   "id": "3f65af25",
   "metadata": {},
   "outputs": [],
   "source": [
    "# Read in data \n",
    "book_ds = read_book_data() \n",
    "cdr_da = book_ds[\"sea_ice_conc\"]\n",
    "is2_da = book_ds[\"ice_thickness\"]\n",
    "\n",
    "# Just grab one month \n",
    "date = \"Apr 2019\"\n",
    "cdr_da = cdr_da.sel(time=date)[0]\n",
    "is2_da = is2_da.sel(time=date)[0]\n",
    "\n",
    "# Grab data as numpy arrays \n",
    "xgrid = is2_da['xgrid'].values\n",
    "ygrid = is2_da['ygrid'].values\n",
    "is2_np = is2_da.copy().values\n",
    "cdr_np = cdr_da.copy().values"
   ]
  },
  {
   "cell_type": "markdown",
   "id": "ae87eae5",
   "metadata": {},
   "source": [
    "# Step 1: Linear interpolation\n",
    "First, we use the scipy.griddata package to perform a simple linear interpolation of the data. We'll also use the CDR sea ice concentration data to assign all sea ice concentration < 15% to 0 thickness before the interpolation, an assumption allowing us to improve the interpolation results. Following the interpolation, we'll set all interpolated grid cells with < 50% concentration to 0 thickness, following the fact that ICESat2 should not produce results for ice thickness where concentration is less that 50%. We'll also set all interpolated grid cells to *nan* where the CDR data is *nan*."
   ]
  },
  {
   "cell_type": "code",
   "execution_count": null,
   "id": "7ecf76e1",
   "metadata": {},
   "outputs": [],
   "source": [
    "# Interpolation settings \n",
    "method = \"linear\" \n",
    "\n",
    "# Perform linear interpolation \n",
    "is2_to_interp = is2_np.copy()\n",
    "is2_to_interp[np.where(cdr_np<0.15)] = 0 # Set 15% conc or less to 0 thickness\n",
    "np_interpolated = griddata((xgrid[(np.isfinite(is2_to_interp))], \n",
    "                            ygrid[(np.isfinite(is2_to_interp))]), \n",
    "                            is2_to_interp[(np.isfinite(is2_to_interp))].flatten(),\n",
    "                            (xgrid, ygrid), \n",
    "                            fill_value=np.nan,\n",
    "                            method=method)\n",
    "np_interpolated[~(np.isfinite(cdr_np))]=np.nan # Remove thickness data where cdr data is nan \n",
    "np_interpolated[np.where(cdr_np<0.5)]=np.nan # Remove thickness data where cdr data < 50% concentration"
   ]
  },
  {
   "cell_type": "markdown",
   "id": "5f06e103",
   "metadata": {},
   "source": [
    "Next, we'll convert the numpy array `np_interpolated` to an xarray DataArray object, allowing us to easily map the results using the `interactiveArcticMaps` function defined in the `plotting_utils` module."
   ]
  },
  {
   "cell_type": "code",
   "execution_count": null,
   "id": "13c2b317",
   "metadata": {},
   "outputs": [],
   "source": [
    "step1_interp_da = xr.DataArray(data=np_interpolated, \n",
    "                               dims=is2_da.dims, \n",
    "                               coords=is2_da.coords, \n",
    "                               attrs={**is2_da.attrs}, \n",
    "                               name=is2_da.name+\"_interp\")"
   ]
  },
  {
   "cell_type": "markdown",
   "id": "ebc7dfe9",
   "metadata": {},
   "source": [
    "Lastly, we'll plot the raw and interpolated data on a map to show the effect of linear interpolation. You'll see how all regions with sea ice thickness > 50% concentration have been filled with a best guess from the linear interpolation, including regions like the Laptev Sea and the Canadian Archipielago, which didn't have much nearby data to work from. The KDTree implemented in step 3 will help resolve this issue."
   ]
  },
  {
   "cell_type": "code",
   "execution_count": null,
   "id": "c136b0ff",
   "metadata": {},
   "outputs": [],
   "source": [
    "pl_raw = interactiveArcticMaps(is2_da, title = \"IS2 raw ice thickness data (\"+date+\")\", vmin=0, vmax=4, frame_width=350, colorbar=True)\n",
    "pl_step1_interp = interactiveArcticMaps(step1_interp_da, title=\"Step 1: \"+method+\" interpolation\", vmin=0, vmax=4, frame_width=350, colorbar=False)\n",
    "display(pl_step1_interp+pl_raw)"
   ]
  },
  {
   "cell_type": "markdown",
   "id": "2ebfd20d",
   "metadata": {},
   "source": [
    "# Step 2: Gaussian smoothing \n",
    "Next, we'll smooth the interpolated data using the Gaussian2DKernel function from the astropy python package. "
   ]
  },
  {
   "cell_type": "code",
   "execution_count": null,
   "id": "905c5050",
   "metadata": {},
   "outputs": [],
   "source": [
    "x_stddev=0.5\n",
    "kernel = Gaussian2DKernel(x_stddev=x_stddev)\n",
    "np_interpolated_gauss = convolve(np_interpolated, kernel)\n",
    "np_interpolated_gauss[~(np.isfinite(cdr_np))]=np.nan # Remove thickness data where cdr data is nan \n",
    "np_interpolated_gauss[np.where(cdr_np<0.5)]=np.nan # Remove thickness data where cdr data < 50% concentration"
   ]
  },
  {
   "cell_type": "markdown",
   "id": "ebcf4c4a",
   "metadata": {},
   "source": [
    "Below, we'll plot the gaussian smoothed data (step 2) and the interpolated data without smoothing (step 1). We've used a low standard deviation in our smoothing, so the differences are somewhat subtle. "
   ]
  },
  {
   "cell_type": "code",
   "execution_count": null,
   "id": "ab707a42",
   "metadata": {},
   "outputs": [],
   "source": [
    "step2_gauss_da = xr.DataArray(data=np_interpolated_gauss, \n",
    "                              dims=is2_da.dims, \n",
    "                              coords=is2_da.coords, \n",
    "                              attrs={**is2_da.attrs}, \n",
    "                              name=is2_da.name+\"_smoothed\")"
   ]
  },
  {
   "cell_type": "code",
   "execution_count": null,
   "id": "e0a9c2ef",
   "metadata": {},
   "outputs": [],
   "source": [
    "pl_step1_interp = interactiveArcticMaps(step1_interp_da, title=\"Step 1: \"+method+\" interpolation\", vmin=0, vmax=4, frame_width=350, colorbar=True)\n",
    "pl_step2_gauss = interactiveArcticMaps(step2_gauss_da, title=\"Step 2: gaussian smoothing\", vmin=0, vmax=4, frame_width=350, colorbar=False)\n",
    "display(pl_step2_gauss+pl_step1_interp)"
   ]
  },
  {
   "cell_type": "markdown",
   "id": "7519d5a2",
   "metadata": {},
   "source": [
    "# Step 3: KDTree \n",
    "Lastly, we'll use a KDTree to compute the distances between every grid cell and the nearest grid cell with data. We'll set a limitation on the distance that a grid cell should be from the nearest cell with data to remove cells that were interpolated using data from far away. We've set the threshold at 50km. "
   ]
  },
  {
   "cell_type": "code",
   "execution_count": null,
   "id": "05745a20",
   "metadata": {},
   "outputs": [],
   "source": [
    "distance_m = 50*10**3 #50km --> 50*10^3 m\n",
    "polehole_lat = 88.25\n",
    "xS = xgrid[np.where((np.isfinite(is2_np)))]\n",
    "yS = ygrid[np.where((np.isfinite(is2_np)))]\n",
    "grid_points = np.c_[xgrid.ravel(), ygrid.ravel()]\n",
    "tree = KDTree(np.c_[xS, yS])\n",
    "dist, _ = tree.query(grid_points, k=1)\n",
    "dist = dist.reshape(xgrid.shape)\n",
    "is2_kdtree = np_interpolated_gauss.copy()\n",
    "is2_kdtree[np.where((dist>distance_m)&(is2_da.latitude.values<polehole_lat))] = np.nan # Set any values > distance_m from the next grid cell to 0. Ignore pole hole\n",
    "is2_kdtree[~(np.isfinite(cdr_np))]=np.nan # Remove thickness data where cdr data is nan \n",
    "is2_kdtree[np.where(cdr_np<0.5)]=np.nan # Remove thickness data where cdr data < 50% concentration"
   ]
  },
  {
   "cell_type": "markdown",
   "id": "11b54114",
   "metadata": {},
   "source": [
    "Below, we'll show the distance matrix computed by the KDTree function"
   ]
  },
  {
   "cell_type": "code",
   "execution_count": null,
   "id": "c311989d",
   "metadata": {},
   "outputs": [],
   "source": [
    "dist_da = xr.DataArray(data=dist, dims=is2_da.dims, coords=is2_da.coords, attrs={\"long_name\":\"distance from closest non-nan cell\"}, name=\"distance\")\n",
    "pl_dist = interactiveArcticMaps(dist_da, title=\"Distance from closest cell with data\", frame_width=350, cmap=\"coolwarm\", vmax=1.5*10**6, colorbar=True)\n",
    "display(pl_dist)"
   ]
  },
  {
   "cell_type": "markdown",
   "id": "4b796be2",
   "metadata": {},
   "source": [
    "Next, we'll plot the results of the KD Tree and show the data that was removed in the process. "
   ]
  },
  {
   "cell_type": "code",
   "execution_count": null,
   "id": "bc2f44d9",
   "metadata": {},
   "outputs": [],
   "source": [
    "step3_kdtree_da = xr.DataArray(data=is2_kdtree, \n",
    "                               dims=is2_da.dims, \n",
    "                               coords=is2_da.coords, \n",
    "                               attrs={**is2_da.attrs}, \n",
    "                               name=is2_da.name)\n",
    "diff_da = step2_gauss_da.where(xr.ufuncs.isnan(step3_kdtree_da))\n",
    "pl_step3_kdtree = interactiveArcticMaps(step3_kdtree_da, title=\"Step 3: KD Tree\", vmin=0, vmax=4, frame_width=350, colorbar=False)\n",
    "pl_diff = interactiveArcticMaps(diff_da, title=\"Step 3: Data removed by KDTree\", vmin=0, vmax=4, frame_width=350, colorbar=True)\n",
    "display(pl_step3_kdtree+pl_diff)"
   ]
  },
  {
   "cell_type": "markdown",
   "id": "faa2cfd8",
   "metadata": {},
   "source": [
    "# Compare final interpolated thickness to raw data"
   ]
  },
  {
   "cell_type": "markdown",
   "id": "dcc52a51",
   "metadata": {},
   "source": [
    "Above, we detailed all the steps taken to arrive at the final interpolated product: we performed a linear interpolation (step 1), we used gaussian smoothing to smooth the data (step 2), and we used a KDTree method to remove data at certain gridcells (step 3). Below, we show the final interpolated ice thickness for one month compared to the raw data from the same month."
   ]
  },
  {
   "cell_type": "code",
   "execution_count": null,
   "id": "1e1a77f4",
   "metadata": {},
   "outputs": [],
   "source": [
    "pl_final = interactiveArcticMaps(step3_kdtree_da, title=\"Interpolated/smoothed sea ice thickness\", vmin=0, vmax=4, frame_width=350, colorbar=False)\n",
    "display(pl_final+pl_raw)"
   ]
  }
 ],
 "metadata": {
  "kernelspec": {
   "display_name": "Python 3 (ipykernel)",
   "language": "python",
   "name": "python3"
  },
  "language_info": {
   "codemirror_mode": {
    "name": "ipython",
    "version": 3
   },
   "file_extension": ".py",
   "mimetype": "text/x-python",
   "name": "python",
   "nbconvert_exporter": "python",
   "pygments_lexer": "ipython3",
   "version": "3.8.12"
  }
 },
 "nbformat": 4,
 "nbformat_minor": 5
}
