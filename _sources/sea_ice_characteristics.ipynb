{
 "cells": [
  {
   "cell_type": "markdown",
   "id": "2570ccdb",
   "metadata": {},
   "source": [
    "# Sea ice characteristics \n",
    "In this notebook, we highlight key additional sea ice variables: snow depth, ice type, snow density, and sea ice drift. We'll use cartopy and xarray to generate maps and lineplots of the data to demonstrate methods for visualizing the data statically, as opposed to the interactive plotting functions highlighted in the sea ice thickness notebook."
   ]
  },
  {
   "cell_type": "code",
   "execution_count": null,
   "id": "7485d4f6",
   "metadata": {},
   "outputs": [],
   "source": [
    "import xarray as xr # For working with gridded climate data \n",
    "from utils.read_data_utils import read_book_data # Helper function for reading the data from the bucket\n",
    "from utils.plotting_utils import static_winter_comparison_lineplot, staticArcticMaps, staticArcticMaps_overlayDrifts, interactiveArcticMaps, compute_gridcell_winter_means # Plotting utils \n",
    "\n",
    "# Plotting dependencies\n",
    "%config InlineBackend.figure_format = 'retina'\n",
    "import matplotlib as mpl\n",
    "mpl.rcParams['figure.dpi'] = 150 # Sets figure size in the notebook\n",
    "\n",
    "# Remove warnings to improve display\n",
    "import warnings \n",
    "warnings.filterwarnings('ignore') "
   ]
  },
  {
   "cell_type": "markdown",
   "id": "fddd4311",
   "metadata": {},
   "source": [
    "# Read in the data "
   ]
  },
  {
   "cell_type": "code",
   "execution_count": null,
   "id": "3b0ae6b9",
   "metadata": {},
   "outputs": [],
   "source": [
    "book_ds = read_book_data() # Read/download the data "
   ]
  },
  {
   "cell_type": "markdown",
   "id": "900b08ef",
   "metadata": {},
   "source": [
    "# Interactive winter thickness data maps\n",
    "Here, we'll use the `interactiveArcticMaps` function to display the data. You can change the variable to display by changing `data_var` in the code cell below if you run the notebook in Binder. "
   ]
  },
  {
   "cell_type": "code",
   "execution_count": null,
   "id": "80e7e87f",
   "metadata": {},
   "outputs": [],
   "source": [
    "data_var = \"freeboard_int\"\n",
    "interactiveArcticMaps(book_ds[data_var], frame_width=500)"
   ]
  },
  {
   "cell_type": "markdown",
   "id": "5629bb23",
   "metadata": {},
   "source": [
    "# Static winter mean maps\n",
    "Compute and map (static) gridcell winter means for given variables"
   ]
  },
  {
   "cell_type": "code",
   "execution_count": null,
   "id": "66ad4ff7",
   "metadata": {
    "tags": [
     "hide-output"
    ]
   },
   "outputs": [],
   "source": [
    "years = [2018,2019,2020] # Years over which to perform analysis\n",
    "\n",
    "print(compute_gridcell_winter_means.__doc__) # Print docstring"
   ]
  },
  {
   "cell_type": "code",
   "execution_count": null,
   "id": "1fa400c1",
   "metadata": {
    "tags": [
     "hide-output"
    ]
   },
   "outputs": [],
   "source": [
    "print(staticArcticMaps.__doc__) # Print docstring"
   ]
  },
  {
   "cell_type": "code",
   "execution_count": null,
   "id": "12ceca05",
   "metadata": {},
   "outputs": [],
   "source": [
    "freeboard_winter_means = compute_gridcell_winter_means(book_ds.freeboard_int, years=years)\n",
    "pl = staticArcticMaps(freeboard_winter_means, set_cbarlabel = \"Sea ice freeboard (m)\", cmap=\"YlOrRd\", vmin=0, vmax=0.8, out_str='freeboard_winter')\n",
    "display(pl)"
   ]
  },
  {
   "cell_type": "code",
   "execution_count": null,
   "id": "229ba116",
   "metadata": {},
   "outputs": [],
   "source": [
    "snow_depth_winter_means = compute_gridcell_winter_means(book_ds.snow_depth_int, years=years)\n",
    "pl = staticArcticMaps(snow_depth_winter_means, set_cbarlabel = \"Snow depth (m)\", cmap=\"inferno\", vmin=0, vmax=0.5, out_str='snowdepth_winter')\n",
    "display(pl)"
   ]
  },
  {
   "cell_type": "code",
   "execution_count": null,
   "id": "e4620cb1",
   "metadata": {},
   "outputs": [],
   "source": [
    "snow_density_winter_means = compute_gridcell_winter_means(book_ds.snow_density, years=years)\n",
    "staticArcticMaps(snow_density_winter_means, set_cbarlabel = \"Snow density (kg/m3)\", cmap=\"GnBu\", vmin=240, vmax=330, out_str='snowdensity_winter')"
   ]
  },
  {
   "cell_type": "code",
   "execution_count": null,
   "id": "1620bfa7",
   "metadata": {},
   "outputs": [],
   "source": [
    "thickness_winter_means = compute_gridcell_winter_means(book_ds.ice_thickness_int, years=years)\n",
    "pl = staticArcticMaps(thickness_winter_means, title=\"\", set_cbarlabel = \"Sea ice thickness (m)\", cmap=\"viridis\", vmin=0, vmax=5, out_str='thickness_winter')\n",
    "display(pl)"
   ]
  },
  {
   "cell_type": "code",
   "execution_count": null,
   "id": "3f7b7436",
   "metadata": {},
   "outputs": [],
   "source": [
    "ice_type_winter_means = compute_gridcell_winter_means(book_ds.ice_type, years=years)\n",
    "pl = staticArcticMaps(ice_type_winter_means, set_cbarlabel = \"Sea ice type (0 = FYI, 1 = MYI)\", cmap=\"YlOrRd\", vmin=0, vmax=1, out_str='icetype_winter')\n",
    "display(pl)"
   ]
  },
  {
   "cell_type": "code",
   "execution_count": null,
   "id": "72a13b1a",
   "metadata": {},
   "outputs": [],
   "source": [
    "ice_conc_winter_means = compute_gridcell_winter_means(book_ds.sea_ice_conc, years=years)\n",
    "pl = staticArcticMaps(ice_conc_winter_means, set_cbarlabel = \"Sea ice concentration\", cmap=\"Blues_r\", vmin=0, vmax=1, out_str='iceconc_winter')\n",
    "display(pl)"
   ]
  },
  {
   "cell_type": "markdown",
   "id": "813624a7",
   "metadata": {},
   "source": [
    "# Overlay sea ice drift vectors \n",
    "We can use a modified version of the plotting function used above to overlay sea ice drift vectors on any variable of interest. Below, we'll generate the plot presented in Petty et al. (2022) that shows mean sea ice thickness and mean sea ice drift for the three winters. "
   ]
  },
  {
   "cell_type": "code",
   "execution_count": null,
   "id": "9ec75afe",
   "metadata": {
    "tags": [
     "hide-output"
    ]
   },
   "outputs": [],
   "source": [
    "print(staticArcticMaps_overlayDrifts.__doc__)"
   ]
  },
  {
   "cell_type": "code",
   "execution_count": null,
   "id": "0c1f7faa",
   "metadata": {},
   "outputs": [],
   "source": [
    "# Compute winter means \n",
    "thickness_winter_means = compute_gridcell_winter_means(book_ds.ice_thickness_int, years=years)\n",
    "drifts_xvel_winter_means = compute_gridcell_winter_means(book_ds.x_vel, years=years)\n",
    "drifts_yvel_winter_means = compute_gridcell_winter_means(book_ds.y_vel, years=years)\n",
    "\n",
    "# Generate plot \n",
    "pl_drifts = staticArcticMaps_overlayDrifts(da=thickness_winter_means,\n",
    "                                           drifts_x=drifts_xvel_winter_means, \n",
    "                                           drifts_y=drifts_yvel_winter_means, \n",
    "                                           set_cbarlabel=\"Sea ice thickness (m)\", cmap=\"viridis\", \n",
    "                                           vmin=0, vmax=5, alpha=0.8, \n",
    "                                           out_str='thickness_drifts_overlayed')\n",
    "display(pl_drifts)"
   ]
  },
  {
   "cell_type": "markdown",
   "id": "00651d08",
   "metadata": {},
   "source": [
    "You can also plot the sea ice drifts for just a single month. Below, we'll show November sea ice drift overlayed on November sea ice freeboard for three winter seasons."
   ]
  },
  {
   "cell_type": "code",
   "execution_count": null,
   "id": "8899141d",
   "metadata": {},
   "outputs": [],
   "source": [
    "# Generate plot \n",
    "pl_drifts = staticArcticMaps_overlayDrifts(da=book_ds.freeboard.sel(time=[\"Nov 2018\",\"Nov 2019\",\"Nov 2020\"]),\n",
    "                                           drifts_x=book_ds.x_vel.sel(time=[\"Nov 2018\",\"Nov 2019\",\"Nov 2020\"]), \n",
    "                                           drifts_y=book_ds.y_vel.sel(time=[\"Nov 2018\",\"Nov 2019\",\"Nov 2020\"]), \n",
    "                                           set_cbarlabel=\"Sea ice freeboard (m)\", cmap=\"YlOrRd\", \n",
    "                                           vmin=0, vmax=0.8, alpha=0.8, \n",
    "                                           out_str='thickness_drifts_overlayed')\n",
    "display(pl_drifts)"
   ]
  },
  {
   "cell_type": "markdown",
   "id": "876a7ff2",
   "metadata": {},
   "source": [
    "# Static monthly maps\n",
    "Compute and map (static) data given variables across the three winters for individual months"
   ]
  },
  {
   "cell_type": "code",
   "execution_count": null,
   "id": "b1d336a8",
   "metadata": {},
   "outputs": [],
   "source": [
    "pl = staticArcticMaps(book_ds.freeboard_int.sel(time=[\"Nov 2018\",\"Nov 2019\",\"Nov 2020\"]), set_cbarlabel = \"Sea ice freeboard\", cmap=\"YlOrRd\", vmin=0, vmax=0.8, out_str='freeboard_november')\n",
    "display(pl)"
   ]
  },
  {
   "cell_type": "code",
   "execution_count": null,
   "id": "63fb1964",
   "metadata": {},
   "outputs": [],
   "source": [
    "pl = staticArcticMaps(book_ds.freeboard_int.sel(time=[\"Apr 2019\",\"Apr 2020\",\"Apr 2021\"]), set_cbarlabel = \"Sea ice freeboard\", cmap=\"YlOrRd\", vmin=0, vmax=0.8, out_str='freeboard_april')\n",
    "display(pl)"
   ]
  },
  {
   "cell_type": "code",
   "execution_count": null,
   "id": "1e1c6623",
   "metadata": {},
   "outputs": [],
   "source": [
    "pl = staticArcticMaps(book_ds.snow_depth_int.sel(time=[\"Nov 2018\",\"Nov 2019\",\"Nov 2020\"]), set_cbarlabel = \"Snow depth\", cmap=\"inferno\", vmin=0, vmax=0.5, out_str='snowdepth_november')\n",
    "display(pl)"
   ]
  },
  {
   "cell_type": "code",
   "execution_count": null,
   "id": "2703088b",
   "metadata": {},
   "outputs": [],
   "source": [
    "pl = staticArcticMaps(book_ds.snow_depth_int.sel(time=[\"Apr 2019\",\"Apr 2020\",\"Apr 2021\"]), set_cbarlabel = \"Snow depth\", cmap=\"inferno\", vmin=0, vmax=0.5, out_str='snowdepth_april')\n",
    "display(pl)"
   ]
  },
  {
   "cell_type": "code",
   "execution_count": null,
   "id": "8b7ed5ef",
   "metadata": {},
   "outputs": [],
   "source": [
    "pl = staticArcticMaps(book_ds.ice_thickness_int.sel(time=[\"Nov 2018\",\"Nov 2019\",\"Nov 2020\"]), set_cbarlabel = \"Sea ice thickness\", cmap=\"viridis\", vmin=0, vmax=5, out_str='thickness_november')\n",
    "display(pl)"
   ]
  },
  {
   "cell_type": "code",
   "execution_count": null,
   "id": "ff97d902",
   "metadata": {},
   "outputs": [],
   "source": [
    "pl = staticArcticMaps(book_ds.ice_thickness_int.sel(time=[\"Apr 2019\",\"Apr 2020\",\"Apr 2021\"]), set_cbarlabel = \"Sea ice thickness\", cmap=\"viridis\", vmin=0, vmax=5, out_str='thickness_april')\n",
    "display(pl)"
   ]
  },
  {
   "cell_type": "markdown",
   "id": "1945c86e",
   "metadata": {},
   "source": [
    "# Thickness anomaly plots\n",
    "Compute and map (static) monthly anomaly maps (relative to the mean across the three winters by default) for given variables across the three winters"
   ]
  },
  {
   "cell_type": "code",
   "execution_count": null,
   "id": "e793d601",
   "metadata": {},
   "outputs": [],
   "source": [
    "freeboard_winter_means = compute_gridcell_winter_means(book_ds.freeboard_int, years=years)\n",
    "pl = staticArcticMaps(freeboard_winter_means-freeboard_winter_means.mean(axis=0), title=\"\", set_cbarlabel = \"Sea ice freeboard anomaly (m)\", cmap=\"BrBG\", vmin=-0.2, vmax=0.2, out_str='freeboard_winter_anomaly')\n",
    "display(pl)"
   ]
  },
  {
   "cell_type": "code",
   "execution_count": null,
   "id": "059fd590",
   "metadata": {},
   "outputs": [],
   "source": [
    "snow_depth_winter_means = compute_gridcell_winter_means(book_ds.snow_depth_int, years=years)\n",
    "pl = staticArcticMaps(snow_depth_winter_means-snow_depth_winter_means.mean(axis=0), set_cbarlabel = \"Snow depth anomaly (m)\", cmap=\"PRGn\", vmin=-0.2, vmax=0.2, out_str='snowdepth_winter_anomaly')\n",
    "display(pl)"
   ]
  },
  {
   "cell_type": "code",
   "execution_count": null,
   "id": "a0dfba06",
   "metadata": {},
   "outputs": [],
   "source": [
    "thickness_winter_means = compute_gridcell_winter_means(book_ds.ice_thickness_int, years=years)\n",
    "pl = staticArcticMaps(thickness_winter_means-thickness_winter_means.mean(axis=0), set_cbarlabel = \"Sea ice thickness anomaly (m)\", cmap=\"RdBu\", vmin=-1.5, vmax=1.5, out_str='thickness_winter_anomaly')\n",
    "display(pl)"
   ]
  },
  {
   "cell_type": "markdown",
   "id": "c7c3bd1b",
   "metadata": {},
   "source": [
    "Do the same for the monthly anomalies (November then April)"
   ]
  },
  {
   "cell_type": "code",
   "execution_count": null,
   "id": "52c99da9",
   "metadata": {},
   "outputs": [],
   "source": [
    "pl = staticArcticMaps(book_ds.freeboard_int[0::12]-book_ds.freeboard_int[0::12].mean(axis=0), set_cbarlabel = \"Sea ice freeboard anomaly (m)\", cmap=\"BrBG\", vmin=-0.2, vmax=0.2, out_str='freeboard_november_anomaly')\n",
    "display(pl)"
   ]
  },
  {
   "cell_type": "code",
   "execution_count": null,
   "id": "17af3ae6",
   "metadata": {},
   "outputs": [],
   "source": [
    "pl = staticArcticMaps(book_ds.snow_depth_int[0::12]-book_ds.snow_depth_int[0::12].mean(axis=0), set_cbarlabel = \"Snow depth anomaly (m)\", cmap=\"PRGn\", vmin=-0.2, vmax=0.2, out_str='snow_depth_november_anomaly')\n",
    "display(pl)"
   ]
  },
  {
   "cell_type": "code",
   "execution_count": null,
   "id": "6e44f047",
   "metadata": {},
   "outputs": [],
   "source": [
    "pl = staticArcticMaps(book_ds.ice_thickness_int[5::12]-book_ds.ice_thickness_int[5::12].mean(axis=0), set_cbarlabel = \"Sea ice thickness anomaly (m)\", cmap=\"RdBu\", vmin=-1.5, vmax=1.5, out_str='thickness_november_anomaly')\n",
    "display(pl)"
   ]
  },
  {
   "cell_type": "code",
   "execution_count": null,
   "id": "c7845eb5",
   "metadata": {},
   "outputs": [],
   "source": [
    "pl = staticArcticMaps(book_ds.freeboard_int[5::12]-book_ds.freeboard_int[5::12].mean(axis=0), set_cbarlabel = \"Sea ice freeboard anomaly (m)\", cmap=\"BrBG\", vmin=-0.2, vmax=0.2, out_str='freeboard_april_anomaly')\n",
    "display(pl)"
   ]
  },
  {
   "cell_type": "code",
   "execution_count": null,
   "id": "1c02ed4f",
   "metadata": {},
   "outputs": [],
   "source": [
    "pl = staticArcticMaps(book_ds.snow_depth_int[5::12]-book_ds.snow_depth_int[5::12].mean(axis=0), set_cbarlabel = \"Snow depth anomaly (m)\", cmap=\"PRGn\", vmin=-0.2, vmax=0.2, out_str='snow_depth_april_anomaly')\n",
    "display(pl)"
   ]
  },
  {
   "cell_type": "code",
   "execution_count": null,
   "id": "0a65d83e",
   "metadata": {},
   "outputs": [],
   "source": [
    "pl = staticArcticMaps(book_ds.ice_thickness_int[5::12]-book_ds.ice_thickness_int[5::12].mean(axis=0), set_cbarlabel = \"Sea ice thickness anomaly (m)\", cmap=\"RdBu\", vmin=-1.5, vmax=1.5, out_str='thickness_april_anomaly')\n",
    "display(pl)"
   ]
  },
  {
   "cell_type": "markdown",
   "id": "2088e287",
   "metadata": {},
   "source": [
    "# Monthly mean timeseries \n",
    "Next we'll compute monthly means by averaging over all gridcells within a given region. We'll use this to generate a lineplot to compare across the three winter seasons for each variable."
   ]
  },
  {
   "cell_type": "code",
   "execution_count": null,
   "id": "5a38e70e",
   "metadata": {},
   "outputs": [],
   "source": [
    "# Here is where we might also want to set a region mask, e.g. to avoid including some of the more uncertain data in the peripheral seas\n",
    "innerArctic = [1,2,3,4,5,6]\n",
    "book_ds_innerArctic = book_ds.where(book_ds.region_mask.isin(innerArctic))\n",
    "region_str='Inner Arctic'"
   ]
  },
  {
   "cell_type": "code",
   "execution_count": null,
   "id": "37afa0dc",
   "metadata": {
    "tags": [
     "hide-output"
    ]
   },
   "outputs": [],
   "source": [
    "print(static_winter_comparison_lineplot.__doc__) # Print docstring"
   ]
  },
  {
   "cell_type": "code",
   "execution_count": null,
   "id": "a496317c",
   "metadata": {},
   "outputs": [],
   "source": [
    "static_winter_comparison_lineplot(book_ds_innerArctic.freeboard, years=years, figsize=(5,3), set_ylabel=r'Sea ice freeboard (m)', region_str=region_str, legend=True)"
   ]
  },
  {
   "cell_type": "code",
   "execution_count": null,
   "id": "c8881a68",
   "metadata": {},
   "outputs": [],
   "source": [
    "static_winter_comparison_lineplot(book_ds_innerArctic.snow_depth_int, years=years, figsize=(5,3), set_ylabel='Snow depth (m)', region_str=region_str, legend=False)"
   ]
  },
  {
   "cell_type": "code",
   "execution_count": null,
   "id": "ddd442da",
   "metadata": {},
   "outputs": [],
   "source": [
    "static_winter_comparison_lineplot(book_ds_innerArctic.snow_density, years=years, figsize=(5,3), set_ylabel=r'Snow density (kg/m$^3$)', region_str=region_str, legend=False)"
   ]
  },
  {
   "cell_type": "code",
   "execution_count": null,
   "id": "2d4a9628",
   "metadata": {},
   "outputs": [],
   "source": [
    "static_winter_comparison_lineplot(book_ds_innerArctic.ice_type, years=years, figsize=(5,3), set_ylabel='Multi-year ice fraction', region_str=region_str, legend=False)"
   ]
  },
  {
   "cell_type": "code",
   "execution_count": null,
   "id": "51760898",
   "metadata": {},
   "outputs": [],
   "source": [
    "static_winter_comparison_lineplot(book_ds_innerArctic.ice_thickness_int, da_unc = book_ds.ice_thickness_unc, years=years, figsize=(5,3), set_ylabel='Sea ice thickness (m)', region_str=region_str, legend=False)"
   ]
  },
  {
   "cell_type": "code",
   "execution_count": null,
   "id": "a42da13b",
   "metadata": {},
   "outputs": [],
   "source": [
    "static_winter_comparison_lineplot(book_ds_innerArctic.sea_ice_conc, years=years, figsize=(5,3), set_ylabel='Sea ice concentration', region_str=region_str, legend=False)"
   ]
  },
  {
   "cell_type": "markdown",
   "id": "864dff7e",
   "metadata": {},
   "source": [
    "Let's take things a bit further and set some conditions on the plots. Storing our data in an xarray dataset makes this very easy!"
   ]
  },
  {
   "cell_type": "code",
   "execution_count": null,
   "id": "949000ef",
   "metadata": {},
   "outputs": [],
   "source": [
    "# Produce timeseries just using grid-cells of multi-year ice type (ice_type =1)\n",
    "\n",
    "out = book_ds_innerArctic.ice_thickness_int.where(book_ds_innerArctic.ice_type==1)\n",
    "\n",
    "static_winter_comparison_lineplot(out, title=\"(a) Multiyear ice\", years=years, figsize=(5,3), start_month=\"Nov\", set_ylabel='Sea ice thickness (m)', region_str=region_str+'_myi', legend=True)"
   ]
  },
  {
   "cell_type": "code",
   "execution_count": null,
   "id": "c5dfaf55",
   "metadata": {},
   "outputs": [],
   "source": [
    "# Produce timeseries just using grid-cells of first-year ice type (ice_type = 0)\n",
    "\n",
    "out = book_ds_innerArctic.ice_thickness_int.where(book_ds_innerArctic.ice_type==0)\n",
    "\n",
    "static_winter_comparison_lineplot(out, years=years, figsize=(5,3), title=\"(b) First-year ice\", start_month=\"Nov\", set_ylabel='Sea ice thickness (m)', region_str=region_str+'_fyi', legend=False)"
   ]
  },
  {
   "cell_type": "markdown",
   "id": "b48036a5",
   "metadata": {},
   "source": [
    "Play around with some other conditions and see how things look!"
   ]
  }
 ],
 "metadata": {
  "celltoolbar": "Tags",
  "kernelspec": {
   "display_name": "Python 3 (ipykernel)",
   "language": "python",
   "name": "python3"
  },
  "language_info": {
   "codemirror_mode": {
    "name": "ipython",
    "version": 3
   },
   "file_extension": ".py",
   "mimetype": "text/x-python",
   "name": "python",
   "nbconvert_exporter": "python",
   "pygments_lexer": "ipython3",
   "version": "3.8.12"
  }
 },
 "nbformat": 4,
 "nbformat_minor": 5
}
