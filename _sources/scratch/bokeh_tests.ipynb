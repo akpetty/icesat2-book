{
 "cells": [
  {
   "cell_type": "markdown",
   "id": "04000771",
   "metadata": {},
   "source": [
    "# TEST "
   ]
  },
  {
   "cell_type": "code",
   "execution_count": 1,
   "id": "b8f83299",
   "metadata": {},
   "outputs": [],
   "source": [
    "import pandas as pd\n",
    "from bokeh.sampledata.iris import flowers\n",
    "\n",
    "from bokeh.plotting import figure, show, output_file\n",
    "from bokeh.models import ColumnDataSource, HoverTool\n",
    "\n",
    "colormap = {'setosa': 'red', 'versicolor': 'green', 'virginica': 'blue'}\n",
    "flowers['colors'] = [colormap[x] for x in flowers['species']]\n",
    "\n",
    "hover = HoverTool(tooltips=[\n",
    "    (\"Sepal length\", \"@sepal_length\"),\n",
    "    (\"Sepal width\", \"@sepal_width\"),\n",
    "    (\"Petal length\", \"@petal_length\"),\n",
    "    (\"Species\", \"@species\")\n",
    "    ])\n",
    "\n",
    "p = figure(title = \"Iris Morphology\", plot_height=500, plot_width=500, tools=[hover, \"pan,reset,wheel_zoom\"])\n",
    "\n",
    "p.xaxis.axis_label = 'Petal Length'\n",
    "p.yaxis.axis_label = 'Petal Width'\n",
    "\n",
    "p.circle('petal_length', 'petal_width', color='colors', \n",
    "         fill_alpha=0.2, size=10, source=ColumnDataSource(flowers))\n",
    "\n",
    "output_file('flowers.html')\n",
    "\n",
    "show(p)"
   ]
  },
  {
   "cell_type": "code",
   "execution_count": null,
   "id": "16a20ea6",
   "metadata": {},
   "outputs": [],
   "source": []
  }
 ],
 "metadata": {
  "celltoolbar": "Tags",
  "kernelspec": {
   "display_name": "Python 3 (ipykernel)",
   "language": "python",
   "name": "python3"
  },
  "language_info": {
   "codemirror_mode": {
    "name": "ipython",
    "version": 3
   },
   "file_extension": ".py",
   "mimetype": "text/x-python",
   "name": "python",
   "nbconvert_exporter": "python",
   "pygments_lexer": "ipython3",
   "version": "3.8.12"
  }
 },
 "nbformat": 4,
 "nbformat_minor": 5
}
