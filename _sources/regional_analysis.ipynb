{
 "cells": [
  {
   "cell_type": "markdown",
   "metadata": {},
   "source": [
    "# Regional analysis\n",
    "\n",
    "Maybe you're just interested in a particular region of the Arctic. Here, we want to filter our dataset to only include data from that region. We can do this using the NSIDC region mask for the Arctic, which is included in the NETCDF file available in the jupyter bucket. The function used in this notebook relies on the NSIDC region mask for the arctic included in the NETCDF from the jupyter book's google bucket, where the function is also available as part of the utils.py script. \n",
    " \n",
    "**Input**:\n",
    " - NETCDF4 file from the jupyter book's google bucket\n",
    " \n",
    " \n",
    " **Output**: \n",
    "  - Plots of sea ice thickness and sea ice type in the Arctic"
   ]
  },
  {
   "cell_type": "markdown",
   "metadata": {},
   "source": [
    "```{tip}\n",
    "Try running this notebook in Google Colab! Toggle over the rocketship icon at the top of the page and click Colab to open a new window and run the notebook. <br><br>To run a single cell, type **Shift+Enter**. To run the whole notebook, under **Runtime** click **Run all**. Note that you will have to run the notebook from the very beginning and load all the Google Colab dependencies for the code to work.\n",
    "```"
   ]
  },
  {
   "cell_type": "code",
   "execution_count": 1,
   "metadata": {
    "tags": [
     "remove-cell"
    ]
   },
   "outputs": [],
   "source": [
    "#this cell will load dependencies for running the notebook in Google Colab\n",
    "#this cell may take a while to run\n",
    "import sys\n",
    "\n",
    "#if code is running in google colab, run these cells to install neccessary libraries\n",
    "if 'google.colab' in sys.modules: \n",
    "    !pip install netcdf4\n",
    "    !pip install xarray==0.16.0"
   ]
  },
  {
   "cell_type": "markdown",
   "metadata": {},
   "source": [
    "## Import notebook dependencies"
   ]
  },
  {
   "cell_type": "code",
   "execution_count": 2,
   "metadata": {
    "tags": [
     "remove-output"
    ]
   },
   "outputs": [],
   "source": [
    "import os\n",
    "import numpy as np\n",
    "import xarray as xr\n",
    "import pandas as pd\n",
    "import matplotlib.pyplot as plt\n",
    "\n",
    "# Ignore warnings in the notebook to improve display\n",
    "# You might want to remove this when debugging/writing new code\n",
    "import warnings\n",
    "warnings.filterwarnings('ignore')\n",
    " \n",
    "#increase resolution for notebook outputs\n",
    "%matplotlib inline \n",
    "%config InlineBackend.figure_format = 'retina' "
   ]
  },
  {
   "cell_type": "markdown",
   "metadata": {},
   "source": [
    "## Load data into notebook\n",
    "Copy file from the book's google bucket and load into an xarray dataset. "
   ]
  },
  {
   "cell_type": "code",
   "execution_count": 4,
   "metadata": {
    "tags": [
     "remove-output"
    ]
   },
   "outputs": [
    {
     "name": "stdout",
     "output_type": "stream",
     "text": [
      "Copying gs://icesat2-book-data/icesat2-book-winter-data.nc...\n",
      "| [1/1 files][157.1 MiB/157.1 MiB] 100% Done                                    \n",
      "Operation completed over 1 objects/157.1 MiB.                                    \n"
     ]
    }
   ],
   "source": [
    "!gsutil -m cp gs://icesat2-book-data/icesat2-book-winter-data.nc ./\n",
    "dataset = xr.open_dataset('icesat2-book-winter-data.nc')"
   ]
  },
  {
   "cell_type": "markdown",
   "metadata": {},
   "source": [
    "## Display region labels and keys \n",
    " - Each region defined by the NSIDC region mask corresponds to a integer key that can be used to reference it.\n",
    " - The keys and labels are stored as attributes to the <span style=\"color:darkmagenta; font-family: Courier\">region_mask</span> coordinate value in the NETCDF4 file.\n",
    " - The code below creates a pandas DataFrame object to show all of the keys and their corresponding labels"
   ]
  },
  {
   "cell_type": "code",
   "execution_count": 5,
   "metadata": {},
   "outputs": [
    {
     "data": {
      "text/html": [
       "<style  type=\"text/css\" >\n",
       "</style><table id=\"T_f87d1320_ecaf_11ea_ba0a_784f43711573\" ><thead>    <tr>        <th class=\"col_heading level0 col0\" >key</th>        <th class=\"col_heading level0 col1\" >label</th>    </tr></thead><tbody>\n",
       "                <tr>\n",
       "                                <td id=\"T_f87d1320_ecaf_11ea_ba0a_784f43711573row0_col0\" class=\"data row0 col0\" >1</td>\n",
       "                        <td id=\"T_f87d1320_ecaf_11ea_ba0a_784f43711573row0_col1\" class=\"data row0 col1\" >non-region oceans</td>\n",
       "            </tr>\n",
       "            <tr>\n",
       "                                <td id=\"T_f87d1320_ecaf_11ea_ba0a_784f43711573row1_col0\" class=\"data row1 col0\" >2</td>\n",
       "                        <td id=\"T_f87d1320_ecaf_11ea_ba0a_784f43711573row1_col1\" class=\"data row1 col1\" >Sea of Okhotsk and Japan</td>\n",
       "            </tr>\n",
       "            <tr>\n",
       "                                <td id=\"T_f87d1320_ecaf_11ea_ba0a_784f43711573row2_col0\" class=\"data row2 col0\" >3</td>\n",
       "                        <td id=\"T_f87d1320_ecaf_11ea_ba0a_784f43711573row2_col1\" class=\"data row2 col1\" >Bering Sea</td>\n",
       "            </tr>\n",
       "            <tr>\n",
       "                                <td id=\"T_f87d1320_ecaf_11ea_ba0a_784f43711573row3_col0\" class=\"data row3 col0\" >4</td>\n",
       "                        <td id=\"T_f87d1320_ecaf_11ea_ba0a_784f43711573row3_col1\" class=\"data row3 col1\" >Hudson Bay</td>\n",
       "            </tr>\n",
       "            <tr>\n",
       "                                <td id=\"T_f87d1320_ecaf_11ea_ba0a_784f43711573row4_col0\" class=\"data row4 col0\" >5</td>\n",
       "                        <td id=\"T_f87d1320_ecaf_11ea_ba0a_784f43711573row4_col1\" class=\"data row4 col1\" >Gulf of St. Lawrence</td>\n",
       "            </tr>\n",
       "            <tr>\n",
       "                                <td id=\"T_f87d1320_ecaf_11ea_ba0a_784f43711573row5_col0\" class=\"data row5 col0\" >6</td>\n",
       "                        <td id=\"T_f87d1320_ecaf_11ea_ba0a_784f43711573row5_col1\" class=\"data row5 col1\" >Baffin Bay, Davis Strait & Labrador Sea</td>\n",
       "            </tr>\n",
       "            <tr>\n",
       "                                <td id=\"T_f87d1320_ecaf_11ea_ba0a_784f43711573row6_col0\" class=\"data row6 col0\" >7</td>\n",
       "                        <td id=\"T_f87d1320_ecaf_11ea_ba0a_784f43711573row6_col1\" class=\"data row6 col1\" >Greenland Sea</td>\n",
       "            </tr>\n",
       "            <tr>\n",
       "                                <td id=\"T_f87d1320_ecaf_11ea_ba0a_784f43711573row7_col0\" class=\"data row7 col0\" >8</td>\n",
       "                        <td id=\"T_f87d1320_ecaf_11ea_ba0a_784f43711573row7_col1\" class=\"data row7 col1\" >Barents Seas</td>\n",
       "            </tr>\n",
       "            <tr>\n",
       "                                <td id=\"T_f87d1320_ecaf_11ea_ba0a_784f43711573row8_col0\" class=\"data row8 col0\" >9</td>\n",
       "                        <td id=\"T_f87d1320_ecaf_11ea_ba0a_784f43711573row8_col1\" class=\"data row8 col1\" >Kara Sea</td>\n",
       "            </tr>\n",
       "            <tr>\n",
       "                                <td id=\"T_f87d1320_ecaf_11ea_ba0a_784f43711573row9_col0\" class=\"data row9 col0\" >10</td>\n",
       "                        <td id=\"T_f87d1320_ecaf_11ea_ba0a_784f43711573row9_col1\" class=\"data row9 col1\" >Laptev Sea</td>\n",
       "            </tr>\n",
       "            <tr>\n",
       "                                <td id=\"T_f87d1320_ecaf_11ea_ba0a_784f43711573row10_col0\" class=\"data row10 col0\" >11</td>\n",
       "                        <td id=\"T_f87d1320_ecaf_11ea_ba0a_784f43711573row10_col1\" class=\"data row10 col1\" >East Siberian Sea</td>\n",
       "            </tr>\n",
       "            <tr>\n",
       "                                <td id=\"T_f87d1320_ecaf_11ea_ba0a_784f43711573row11_col0\" class=\"data row11 col0\" >12</td>\n",
       "                        <td id=\"T_f87d1320_ecaf_11ea_ba0a_784f43711573row11_col1\" class=\"data row11 col1\" >Chukchi Sea</td>\n",
       "            </tr>\n",
       "            <tr>\n",
       "                                <td id=\"T_f87d1320_ecaf_11ea_ba0a_784f43711573row12_col0\" class=\"data row12 col0\" >13</td>\n",
       "                        <td id=\"T_f87d1320_ecaf_11ea_ba0a_784f43711573row12_col1\" class=\"data row12 col1\" >Beaufort Sea</td>\n",
       "            </tr>\n",
       "            <tr>\n",
       "                                <td id=\"T_f87d1320_ecaf_11ea_ba0a_784f43711573row13_col0\" class=\"data row13 col0\" >14</td>\n",
       "                        <td id=\"T_f87d1320_ecaf_11ea_ba0a_784f43711573row13_col1\" class=\"data row13 col1\" >Canadian Archipelago</td>\n",
       "            </tr>\n",
       "            <tr>\n",
       "                                <td id=\"T_f87d1320_ecaf_11ea_ba0a_784f43711573row14_col0\" class=\"data row14 col0\" >15</td>\n",
       "                        <td id=\"T_f87d1320_ecaf_11ea_ba0a_784f43711573row14_col1\" class=\"data row14 col1\" >Arctic Ocean</td>\n",
       "            </tr>\n",
       "            <tr>\n",
       "                                <td id=\"T_f87d1320_ecaf_11ea_ba0a_784f43711573row15_col0\" class=\"data row15 col0\" >20</td>\n",
       "                        <td id=\"T_f87d1320_ecaf_11ea_ba0a_784f43711573row15_col1\" class=\"data row15 col1\" >Land</td>\n",
       "            </tr>\n",
       "            <tr>\n",
       "                                <td id=\"T_f87d1320_ecaf_11ea_ba0a_784f43711573row16_col0\" class=\"data row16 col0\" >21</td>\n",
       "                        <td id=\"T_f87d1320_ecaf_11ea_ba0a_784f43711573row16_col1\" class=\"data row16 col1\" >Coast</td>\n",
       "            </tr>\n",
       "    </tbody></table>"
      ],
      "text/plain": [
       "<pandas.io.formats.style.Styler at 0x7fc6131f4b50>"
      ]
     },
     "metadata": {},
     "output_type": "display_data"
    }
   ],
   "source": [
    "#get region mask attributes as a dictionary object \n",
    "regionMask = dataset.region_mask.attrs\n",
    "\n",
    "#get region keys and labels\n",
    "keys = regionMask['keys']\n",
    "labels = regionMask['labels']\n",
    "\n",
    "#create and display table of keys and labels \n",
    "tbl = pd.DataFrame({'key':keys, 'label':labels})\n",
    "display(tbl.style.hide_index())"
   ]
  },
  {
   "cell_type": "markdown",
   "metadata": {},
   "source": [
    "## Define region/s of interest by key\n",
    " - Define variable <span style=\"color:darkmagenta; font-family: Courier\">regionKeyList</span>, a list of integers corresponding to keys you want to restrict the data to. \n",
    "     - Make sure <span style=\"color:darkmagenta; font-family: Courier\">regionKeyList</span> is a list, even if you just want one region (i.e. <span style=\"color:darkmagenta; font-family: Courier\">regionKeyList = [15]</span> for the Arctic Ocean) "
   ]
  },
  {
   "cell_type": "code",
   "execution_count": 6,
   "metadata": {},
   "outputs": [],
   "source": [
    "regionKeyList = [10,11,12,13,15] #Inner Arctic\n",
    "#regionKeyList = [13] #Beaufort Sea\n",
    "#regionKeyList = [10] #Laptev Sea\n",
    "#regionKeyList = list(tbl['key']) #if you want to keep all regions"
   ]
  },
  {
   "cell_type": "markdown",
   "metadata": {},
   "source": [
    "## Restrict the data to desired region/s\n",
    "This function can also be accessed from the utils.py file, stored in the google bucket for this book. \n",
    " - Function will return a new dataset restricted to the input keys by applying a condition that the region mask needs to be equal to the key/s. \n",
    " - The code will raise a ValueError if <span style=\"color:darkmagenta; font-family: Courier\">regionKeyList</span> is not a list \n",
    " - The code will raise a ValueError if <span style=\"color:darkmagenta; font-family: Courier\">regionKeyList</span> contains invalid keys \n",
    "     - Invalid keys are integer values that do not correspond to a region as defined by the NSIDC region mask for the arctic\n",
    " - The code will raise a warning if you remove all regions from the data \n",
    "     - This occurs when <span style=\"color:darkmagenta; font-family: Courier\">regionKeyList</span> equals an empty list (<span style=\"color:darkmagenta; font-family: Courier\">regionKeyList = []</span>) "
   ]
  },
  {
   "cell_type": "code",
   "execution_count": 7,
   "metadata": {},
   "outputs": [],
   "source": [
    "def restrictRegionally(dataset, regionKeyList): \n",
    "    \"\"\"Restrict dataset to input regions.\n",
    "    \n",
    "    Args: \n",
    "        dataset (xr Dataset): dataset generated by Load_IS2 notebook\n",
    "        regionKeyList (list): list of region keys to restrict data to \n",
    "        \n",
    "    Returns: \n",
    "        regionalDataset (xr Dataset): dataset with restricted data to input regions\n",
    "    \"\"\"\n",
    "    \n",
    "    def checkKeys(regionKeyList, regionTbl): \n",
    "        \"\"\"Check that regionKeyList was defined correctly\n",
    "\n",
    "        Raises: \n",
    "            ValueError if regionKeyList was not defined correctly \n",
    "            warning if all data was removed from the dataset\n",
    "        \"\"\"\n",
    "        if type(regionKeyList) != list: #raise a ValueError if regionKeyList is not a list \n",
    "            raise ValueError('regionKeyList needs to be a list. \\nFor example, if you want to restrict data to the Beaufort Sea, define regionKeyList = [13]')\n",
    "\n",
    "        for key in regionKeyList: \n",
    "            if key not in list(regionTbl['key']): \n",
    "                raise ValueError('Region key ' + str(key) + ' does not exist in region mask. \\n Redefine regionKeyList with key numbers from table')\n",
    "\n",
    "        if len(regionKeyList) == 0: \n",
    "            warnings.warn('You removed all the data from the dataset. Are you sure you wanted to do this? \\n If not, make sure the list regionKeyList is not empty and try again. \\n If you intended to keep data from all regions, set regionKeyList = list(tbl[\\\"key\\\"])')\n",
    " \n",
    "    #create a table of keys and labels\n",
    "    regionMask = dataset.region_mask.attrs\n",
    "    regionTbl = pd.DataFrame({'key': regionMask['keys'], 'label': regionMask['labels']})\n",
    "    \n",
    "    #call function to check if regionKeyList was defined correctly\n",
    "    checkKeys(regionKeyList, regionTbl)\n",
    "    \n",
    "    #keys to remove (all keys that are note listed in regionKeyList)\n",
    "    keysToRemove = [key for key in list(regionTbl['key']) if key not in regionKeyList]\n",
    "    \n",
    "    #filter elements from the ice thickness DataArray where the region is the desired region\n",
    "    regionalDataset = dataset.copy()\n",
    "    for var in dataset.data_vars: \n",
    "        if var != 'seaice_conc_monthly_cdr':\n",
    "            regionalVar = regionalDataset[var]\n",
    "            for key in keysToRemove: \n",
    "                regionalVar = regionalVar.where(regionalVar['region_mask'] != key)\n",
    "            regionalDataset[var] = regionalVar\n",
    "    \n",
    "    #find name of labels \n",
    "    labels = [regionTbl[regionTbl['key'] == key]['label'].item() for key in regionKeyList]\n",
    "    \n",
    "    #add new attributes describing changes made to the dataset\n",
    "    if len(labels) < len(regionTbl['key']): \n",
    "        if set(regionKeyList) == set([10,11,12,13,15]): #convert to sets so unordered lists are compared\n",
    "            regionalDataset.attrs['regions with data'] = 'Inner Arctic'\n",
    "        else:    \n",
    "            regionalDataset.attrs['regions with data'] = ('%s' % ', '.join(map(str, labels)))\n",
    "        print('Regions selected: ' + regionalDataset.attrs['regions with data'])\n",
    "    else: \n",
    "        regionalDataset.attrs['regions with data'] = 'All'\n",
    "        print('Regions selected: All \\nNo regions will be removed')\n",
    "    \n",
    "    return regionalDataset"
   ]
  },
  {
   "cell_type": "markdown",
   "metadata": {},
   "source": [
    "## Call function to restrict the data regionally"
   ]
  },
  {
   "cell_type": "code",
   "execution_count": 8,
   "metadata": {},
   "outputs": [
    {
     "name": "stdout",
     "output_type": "stream",
     "text": [
      "Regions selected: Inner Arctic\n"
     ]
    }
   ],
   "source": [
    "#define a list of keys corresponding to the region of interest\n",
    "regionKeyList = [10,11,12,13,15] #Inner Arctic\n",
    "\n",
    "#restrict data to that region\n",
    "dataset = restrictRegionally(dataset, regionKeyList)"
   ]
  },
  {
   "cell_type": "code",
   "execution_count": null,
   "metadata": {},
   "outputs": [],
   "source": []
  }
 ],
 "metadata": {
  "celltoolbar": "Tags",
  "kernelspec": {
   "display_name": "is2intenv",
   "language": "python",
   "name": "is2intenv"
  },
  "language_info": {
   "codemirror_mode": {
    "name": "ipython",
    "version": 3
   },
   "file_extension": ".py",
   "mimetype": "text/x-python",
   "name": "python",
   "nbconvert_exporter": "python",
   "pygments_lexer": "ipython3",
   "version": "3.7.7"
  }
 },
 "nbformat": 4,
 "nbformat_minor": 4
}
