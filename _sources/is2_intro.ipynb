{
 "cells": [
  {
   "cell_type": "markdown",
   "id": "4627f3d0",
   "metadata": {},
   "source": [
    "#  Intro to the ATLAS/ICESat-2 Monthly Gridded Sea Ice Thickness Dataset \n",
    "This gridded dataset provides several useful sea ice variables, including thickness, freeboard, and snow depth. Here, we'll show you how to easily download the data from our public google storage bucket and how to generate some simple plots for a few variables of interest."
   ]
  },
  {
   "cell_type": "code",
   "execution_count": null,
   "id": "b237e914",
   "metadata": {},
   "outputs": [],
   "source": [
    "import xarray as xr # For working with gridded climate data \n",
    "from utils.read_data_utils import read_is2_data # Helper function for reading the data from the bucket\n",
    "\n",
    "# Plotting dependencies\n",
    "import cartopy.crs as ccrs\n",
    "import matplotlib.pyplot as plt\n",
    "from matplotlib.axes import Axes\n",
    "from cartopy.mpl.geoaxes import GeoAxes\n",
    "GeoAxes._pcolormesh_patched = Axes.pcolormesh # Helps avoid some weird issues with the polar projection \n",
    "%config InlineBackend.figure_format = 'retina'\n",
    "import matplotlib as mpl\n",
    "mpl.rcParams['figure.dpi'] = 150 # Sets figure size in the notebook\n",
    "\n",
    "# Remove warnings to improve display\n",
    "import warnings \n",
    "warnings.filterwarnings('ignore') "
   ]
  },
  {
   "cell_type": "markdown",
   "id": "0efb394e",
   "metadata": {},
   "source": [
    "# Read in ICESat-2 netcdf4 files using xarray\n",
    "Here, we'll read in the data from the jupyter book using a function `read_is2_data` , defined in the `read_data_utils` module. You can also download this same data from the NSIDC. See the `data_wrangling` notebook for more information on this dataset.<br><br> The function reads in the data as an xarray Dataset object. [xarray](http://xarray.pydata.org/en/stable/) is a python package built for working with gridded data and is particularly useful for climate data in the form of netcdf4 files "
   ]
  },
  {
   "cell_type": "code",
   "execution_count": null,
   "id": "417d652d",
   "metadata": {},
   "outputs": [],
   "source": [
    "print(read_is2_data.__doc__) # Print docstring"
   ]
  },
  {
   "cell_type": "code",
   "execution_count": null,
   "id": "98eadcb8",
   "metadata": {},
   "outputs": [],
   "source": [
    "is2_ds = read_is2_data() # Read in data\n",
    "print(is2_ds) # Display the data "
   ]
  },
  {
   "cell_type": "markdown",
   "id": "cba3b925",
   "metadata": {},
   "source": [
    "# Overlay sea ice thickness on a map of the Arctic \n",
    "xarray allows us to generate a quick and simple map of the data in just a few lines of code. Below, we'll plot sea ice thickness for a single month. "
   ]
  },
  {
   "cell_type": "code",
   "execution_count": null,
   "id": "e3f587da",
   "metadata": {},
   "outputs": [],
   "source": [
    "date = \"Jan 2021\"\n",
    "var = \"ice_thickness\"\n",
    "data_one_month = is2_ds[var].sel(time=date)\n",
    "p = data_one_month.plot(x=\"longitude\", y=\"latitude\", # horizontal coordinates \n",
    "                        vmin=0, vmax=4, # min and max on the colorbar \n",
    "                        subplot_kws={'projection':ccrs.NorthPolarStereo(central_longitude=-45)}, # Set the projection \n",
    "                        transform=ccrs.PlateCarree())\n",
    "p.axes.coastlines() # Add coastlines \n",
    "plt.show()"
   ]
  },
  {
   "cell_type": "markdown",
   "id": "9256f196",
   "metadata": {},
   "source": [
    "# Simple sea ice thickness maps\n",
    "Using the function arguments `col` and `col_wrap`, we can modify the code for plotting one month of data to plot several months of data. Below, we'll plot sea ice thickness for Nov 2020 - Apr 2021."
   ]
  },
  {
   "cell_type": "code",
   "execution_count": null,
   "id": "991f2b97",
   "metadata": {},
   "outputs": [],
   "source": [
    "start_date = \"Nov 2020\"\n",
    "end_date = \"Apr 2021\"\n",
    "var = \"ice_thickness\" # Variable to use \n",
    "data_one_winter = is2_ds[var].sel(time=slice(start_date, end_date))\n",
    "p = data_one_winter.plot(x=\"longitude\", y=\"latitude\", # Horizontal coordinates \n",
    "                         col=\"time\", # Coordinate to use for facet grid \n",
    "                         col_wrap=3, # Number of columns to use \n",
    "                         vmin=0, vmax=4, # Min and max on the colorbar \n",
    "                         subplot_kws={'projection':ccrs.NorthPolarStereo(central_longitude=-45)}, # Set the projection \n",
    "                         transform=ccrs.PlateCarree())\n",
    "for ax in p.axes.flat: # Add coastlines\n",
    "    ax.coastlines()\n",
    "plt.suptitle(\"variable: \"+var, y=1.03) # Add a descriptive title\n",
    "plt.show()"
   ]
  },
  {
   "cell_type": "markdown",
   "id": "a4e19708",
   "metadata": {},
   "source": [
    "# Plot mean sea ice freeboard over time\n",
    "Maybe we want to know how the mean has changed over time. Below, we'll compute the mean monthly sea ice freeboard for Sep 2020 - Apr 2021, and display the information in a simple lineplot. "
   ]
  },
  {
   "cell_type": "code",
   "execution_count": null,
   "id": "853acda7",
   "metadata": {},
   "outputs": [],
   "source": [
    "var = \"freeboard\" # Variable to use \n",
    "start_date = \"Sep 2020\"\n",
    "end_date = \"Apr 2021\"\n",
    "winter2020_21 = is2_ds.sel(time=slice(start_date, end_date)) # Grab data for Sep 2020 - Apr 2021\n",
    "winter2020_21_mean = winter2020_21[var].mean(dim=[\"x\",\"y\"], # Dimensions over which to compute mean \n",
    "                                             keep_attrs=True) # Keep attributes from original dataset\n",
    "\n",
    "lineplot = winter2020_21_mean.plot(marker='o') # Generate the lineplot \n",
    "plt.title(\"Monthly mean \"+var) # Add a descriptive title \n",
    "plt.show()"
   ]
  }
 ],
 "metadata": {
  "celltoolbar": "Tags",
  "kernelspec": {
   "display_name": "Python 3 (ipykernel)",
   "language": "python",
   "name": "python3"
  },
  "language_info": {
   "codemirror_mode": {
    "name": "ipython",
    "version": 3
   },
   "file_extension": ".py",
   "mimetype": "text/x-python",
   "name": "python",
   "nbconvert_exporter": "python",
   "pygments_lexer": "ipython3",
   "version": "3.8.12"
  }
 },
 "nbformat": 4,
 "nbformat_minor": 5
}
