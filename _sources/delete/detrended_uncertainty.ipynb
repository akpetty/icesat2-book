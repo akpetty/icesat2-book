{
 "cells": [
  {
   "cell_type": "markdown",
   "id": "adaa193c",
   "metadata": {},
   "source": [
    "Detrended uncertainty code "
   ]
  },
  {
   "cell_type": "code",
   "execution_count": null,
   "id": "ebc65e0a",
   "metadata": {},
   "outputs": [],
   "source": [
    "monthly_means = da.mean(dim=[\"x\",\"y\"])\n",
    "dates = pd.to_datetime(monthly_means.time.values)\n",
    "for mon in dates.month.unique(): \n",
    "    mon_yr = dates[dates.month==mon]\n",
    "    mon_yr_arr = np.arange(0,len(mon_yr))\n",
    "    trended_mean = monthly_means.sel(time = mon_yr)\n",
    "    trend, intercept, r_vals, prob, stderr = scipy.stats.linregress(mon_yr_arr, trended_mean)\n",
    "    line = (trend * mon_yr_arr) + intercept\n",
    "    detrended_mean = trended_mean - line"
   ]
  },
  {
   "cell_type": "code",
   "execution_count": null,
   "id": "9e7d2cf5",
   "metadata": {},
   "outputs": [],
   "source": []
  }
 ],
 "metadata": {
  "kernelspec": {
   "display_name": "Python 3",
   "language": "python",
   "name": "python3"
  },
  "language_info": {
   "codemirror_mode": {
    "name": "ipython",
    "version": 3
   },
   "file_extension": ".py",
   "mimetype": "text/x-python",
   "name": "python",
   "nbconvert_exporter": "python",
   "pygments_lexer": "ipython3",
   "version": "3.8.10"
  }
 },
 "nbformat": 4,
 "nbformat_minor": 5
}
