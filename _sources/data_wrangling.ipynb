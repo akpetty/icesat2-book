{
 "cells": [
  {
   "cell_type": "markdown",
   "metadata": {},
   "source": [
    "# Data wrangling\n",
    "\n",
    "This notebook loads the different datasets used in the analysis into a single NETCDF4 file, with descriptive attributes maintained for each dataset. Each dataset is regridded to the ICESat2 grid shape [304, 448] (x,y). The datasets used in this notebook are listed below. The output file is accessible in the [google cloud storage bucket](https://console.cloud.google.com/storage/browser/sea-ice-thickness-data) for this jupyter book and loaded in each notebook. "
   ]
  },
  {
   "cell_type": "markdown",
   "metadata": {},
   "source": [
    "## Details on each dataset\n",
    "Detailed information about each of the datasets used to compile the final data product are provided below in the order they appear in the notebook workflow. The information provided here was last updated 08-21-2021. \n",
    "\n",
    "### ATLAS/ICESat-2 Monthly Gridded Sea Ice Freeboard\n",
    "- **Product Type**: Northern hemisphere gridded monthly means\n",
    "- **Download link**: \n",
    "    - NSIDC (recommended method): https://nsidc.org/data/ATL20\n",
    "    - Our google storage bucket (provided for compatibility with this Jupyter Book): https://console.cloud.google.com/storage/browser/sea-ice-thickness-data\n",
    "- **Reference**: Petty, A. A., R. Kwok, M. Bagnardi, A. Ivanoff, N. Kurtz, J. Lee, J. Wimert, and D. Hancock. 2021. ATLAS/ICESat-2 L3B Daily and Monthly Gridded Sea Ice Freeboard, Version 2. Northern hemisphere gridded monthly means. Boulder, Colorado USA. NASA National Snow and Ice Data Center Distributed Active Archive Center. doi: https://doi.org/10.5067/ATLAS/ATL20.002. 08-21-2021.\n",
    "\n",
    "### NOAA/NSIDC Climate Data Record of Passive Microwave Sea Ice Concentration\n",
    "- **Variables used**: NOAA/NSIDC sea ice concentration CDR \n",
    "- **Download link**: https://nsidc.org/data/g02202\n",
    "- **Reference**: Meier, W. N., F. Fetterer, A. K. Windnagel, and S. Stewart. 2021. NOAA/NSIDC Climate Data Record of Passive Microwave Sea Ice Concentration, Version 4. Mean monthly aggregated, northern hemisphere. Boulder, Colorado USA. NSIDC: National Snow and Ice Data Center https://doi.org/10.7265/efmz-2t65. 08-21-2021.\n",
    "- **NOTE**: Only the aggregated monthly dataset has latitude and longitude variables, so make sure you download this file! \n",
    "\n",
    "### NSIDC region mask and coordinate tools (psn25 v3)\n",
    "- **Product names**: region_n.msk (region mask); psn25lons_v3.dat & psn25lats_v3.dat (coordinate tool)\n",
    "- **Download links**: \n",
    "    - Region mask: https://nsidc.org/data/polar-stereo/tools_masks.html#region_masks\n",
    "    - Coordinate tools: https://nsidc.org/data/polar-stereo/tools_geo_pixel.html\n",
    "- **Reference**: unknown (if you know the reference for this product and would like to contribute it, please suggest an edit)\n",
    "\n",
    "### ERA5 monthly averaged data on single levels\n",
    "- **Variables used**: 2m temperature; Mean surface downward long-wave radiation flux\n",
    "- **Product type**: Monthly averaged reanalysis \n",
    "- **Download link**: https://cds.climate.copernicus.eu/cdsapp#!/dataset/reanalysis-era5-single-levels-monthly-means?tab=overview\n",
    "- **Reference**: Hersbach, H., Bell, B., Berrisford, P., Biavati, G., Horányi, A., Muñoz Sabater, J., Nicolas, J., Peubey, C., Radu, R., Rozum, I., Schepers, D., Simmons, A., Soci, C., Dee, D., Thépaut, J-N. (2019): ERA5 monthly averaged data on single levels from 1979 to present. Copernicus Climate Change Service (C3S) Climate Data Store (CDS). (Accessed on 16-08-2021), 10.24381/cds.f17050d7\n",
    "\n",
    "### PIOMAS mean monthly ice thickness\n",
    "- **Product Type**: Sea ice thickness (Volume per unit Area), monthly mean\n",
    "- **Variables used**: Sea ice thickness (Volume per unit Area) monthly mean; Grid lon and lat for scalar fields (txt file) \n",
    "- **Download link**: http://psc.apl.uw.edu/research/projects/arctic-sea-ice-volume-anomaly/data/model_grid\n",
    "- **Reference**: Zhang, Jinlun and D.A. Rothrock: Modeling global sea ice with a thickness and enthalpy distribution model in generalized curvilinear coordinates, Mon. Wea. Rev. 131(5), 681-697, 2003.\n",
    "- **NOTE**: You'll want to download the heff format data product, not the text file. For some reason, just clicking on the gzipped file to unzip it raises an error on my computer that the archive is empty (which is not true!). You'll need to unzip the file using the command line; i.e. `gzip -d file.gz`\n",
    "\n",
    "### Polar Pathfinder Daily 25 km EASE-Grid Sea Ice Motion Vectors\n",
    "- **Product Type**: Ice motion Northern Hemisphere weekly means \n",
    "- **Download link**: https://nsidc.org/data/nsidc-0116\n",
    "- **Reference**: Tschudi, M., W. N. Meier, J. S. Stewart, C. Fowler, and J. Maslanik. 2019. Polar Pathfinder Daily 25 km EASE-Grid Sea Ice Motion Vectors, Version 4. Ice motion Northern Hemisphere weekly means . Boulder, Colorado USA. NASA National Snow and Ice Data Center Distributed Active Archive Center. doi: https://doi.org/10.5067/INAWUWO7QH7B. 08-16-2021.\n"
   ]
  },
  {
   "cell_type": "markdown",
   "metadata": {},
   "source": [
    "```{note}\n",
    "Although you'll see an option to run this notebook in Binder, this notebook is **NOT** configured to run in Binder. If you want to wrangle the data yourself, each dataset used to compile the final data product can be downloaded from the links above. The final data product produced by this notebook can be downloaded from the google storage bucket associated with this jupyter book.\n",
    "```"
   ]
  },
  {
   "cell_type": "markdown",
   "metadata": {},
   "source": [
    "# 1) Import notebook dependencies"
   ]
  },
  {
   "cell_type": "code",
   "execution_count": 1,
   "metadata": {},
   "outputs": [],
   "source": [
    "import os\n",
    "import numpy as np\n",
    "import xarray as xr\n",
    "import pandas as pd\n",
    "from datetime import date\n",
    "import pyproj \n",
    "import scipy.interpolate \n",
    "from glob import glob\n",
    "import matplotlib.pyplot as plt\n",
    "from utils.read_data_utils import read_is2_data # This allows us to read the ICESAT2 data directly from the google storage bucket\n",
    "\n",
    "# Ignore warnings in the notebook to improve display\n",
    "import warnings\n",
    "warnings.filterwarnings('ignore')"
   ]
  },
  {
   "cell_type": "markdown",
   "metadata": {},
   "source": [
    "# 2) Read in data"
   ]
  },
  {
   "cell_type": "markdown",
   "metadata": {},
   "source": [
    "## Define filepaths\n",
    "Define filepaths to data on your local machine"
   ]
  },
  {
   "cell_type": "code",
   "execution_count": 2,
   "metadata": {},
   "outputs": [],
   "source": [
    "cdr_path = ''         # NOAA/NSIDC Climate Data Record of Passive Microwave Sea Ice Concentration\n",
    "regionMask_path = ''  # NSIDC region mask and coordinate tools (psn25 v3)\n",
    "ERA5_path = ''        # ERA5 monthly averaged data on single levels\n",
    "PIOMAS_path = ''      # PIOMAS mean monthly ice thickness\n",
    "drift_path = ''       # Polar Pathfinder Daily 25 km EASE-Grid Sea Ice Motion Vectors"
   ]
  },
  {
   "cell_type": "code",
   "execution_count": 3,
   "metadata": {
    "tags": [
     "remove-cell"
    ]
   },
   "outputs": [],
   "source": [
    "#Filepaths on Nicole's computer; cells removed in jupyter book\n",
    "\n",
    "localDirectory = '../icesat2-book-data/'                         \n",
    "cdr_path = localDirectory + 'CDR/seaice_conc_monthly_nh_197811_202012_v04r00.nc'\n",
    "regionMask_path = localDirectory + 'region_mask/'                \n",
    "ERA5_path = localDirectory  + 'ERA5/ERA5_monthly_reanalysis.nc' \n",
    "PIOMAS_path = localDirectory + 'PIOMAS/'                         \n",
    "drift_path = localDirectory + 'seaice_motion_vectors/'           "
   ]
  },
  {
   "cell_type": "markdown",
   "metadata": {},
   "source": [
    "## Set date range of interest\n",
    "We'll restrict data to this date range, corresponding to years/months in our later analysis"
   ]
  },
  {
   "cell_type": "code",
   "execution_count": 4,
   "metadata": {},
   "outputs": [
    {
     "name": "stdout",
     "output_type": "stream",
     "text": [
      "DatetimeIndex(['2018-09-01', '2018-10-01', '2018-11-01', '2018-12-01',\n",
      "               '2019-01-01', '2019-02-01', '2019-03-01', '2019-04-01',\n",
      "               '2019-05-01', '2019-06-01', '2019-07-01', '2019-08-01',\n",
      "               '2019-09-01', '2019-10-01', '2019-11-01', '2019-12-01',\n",
      "               '2020-01-01', '2020-02-01', '2020-03-01', '2020-04-01',\n",
      "               '2020-05-01', '2020-06-01', '2020-07-01', '2020-08-01',\n",
      "               '2020-09-01', '2020-10-01', '2020-11-01', '2020-12-01'],\n",
      "              dtype='datetime64[ns]', freq='MS')\n"
     ]
    }
   ],
   "source": [
    "start_date = \"Sep 2018\"\n",
    "end_date = \"Dec 2020\"\n",
    "date_range = pd.date_range(start=start_date, end=end_date, freq='MS') # MS indicates a time frequency of start of the month\n",
    "print(date_range)"
   ]
  },
  {
   "cell_type": "markdown",
   "metadata": {},
   "source": [
    "## ICESat-2 gridded monthly means"
   ]
  },
  {
   "cell_type": "code",
   "execution_count": 5,
   "metadata": {},
   "outputs": [],
   "source": [
    "is2_ds = read_is2_data(data_dir=\"IS2SITMOGR4\")\n",
    "\n",
    "# Create empty dataset for filling with regridded variables\n",
    "is2_ds = is2_ds.drop([\"xgrid\",\"ygrid\"])"
   ]
  },
  {
   "cell_type": "markdown",
   "metadata": {},
   "source": [
    "## Sea ice concentration "
   ]
  },
  {
   "cell_type": "code",
   "execution_count": 6,
   "metadata": {},
   "outputs": [],
   "source": [
    "def read_cdr_data(dataPath): \n",
    "    \"\"\"Reads in CDR data, renames coordinates, and sets lat/lon variables to coordinates\n",
    "    \n",
    "     Args:\n",
    "         dataPath (str): path to CDR file \n",
    "         \n",
    "     Returns: \n",
    "         cdr_ds (xr.Dataset): data \n",
    "    \"\"\"\n",
    "    \n",
    "    cdr_ds = xr.open_dataset(cdr_path)\n",
    "    cdr_ds = cdr_ds.rename({\"tdim\":\"time\",\"xgrid\":\"x\",\"ygrid\":\"y\"})  # Coords and dimensions have slightly different names. Rename so they match \n",
    "    cdr_ds = cdr_ds.set_coords([\"latitude\",\"longitude\"]) # Set lat and lon dimensions as coordinate variables\n",
    "    return cdr_ds"
   ]
  },
  {
   "cell_type": "code",
   "execution_count": 7,
   "metadata": {},
   "outputs": [],
   "source": [
    "cdr_ds = read_cdr_data(dataPath=cdr_path)\n",
    "cdr_da = cdr_ds[\"cdr_seaice_conc_monthly\"] # Select sea ice concentration variable\n",
    "cdr_da[\"time\"] = pd.to_datetime(cdr_da.time.values)\n",
    "cdr_da = cdr_da.sel(time = date_range) \n",
    "cdr_da = cdr_da.where(cdr_da.latitude > is2_ds.latitude.min()) # Restrict to ICESat-2 latitude\n",
    "\n",
    "# Add descriptive attributes from main Dataset \n",
    "for key in [\"metadata_link\",\"contributor_name\",\"contributor_role\",\"license\",\"summary\"]:\n",
    "    cdr_da.attrs[key] = cdr_ds.attrs[key] \n",
    "cdr_da.attrs[\"reference\"] = \"Meier, W. N., F. Fetterer, A. K. Windnagel, and S. Stewart. 2021. NOAA/NSIDC Climate Data Record of Passive Microwave Sea Ice Concentration, Version 4. Mean monthly aggregated, northern hemisphere. Boulder, Colorado USA. NSIDC: National Snow and Ice Data Center https://doi.org/10.7265/efmz-2t65. 08-21-2021.\""
   ]
  },
  {
   "cell_type": "markdown",
   "metadata": {},
   "source": [
    "### Remove flagged concentration data\n",
    "Remove data on land and at the pole hole, which are assigned an aphysical value greater than 1"
   ]
  },
  {
   "cell_type": "code",
   "execution_count": 8,
   "metadata": {},
   "outputs": [
    {
     "data": {
      "image/png": "[encoded data removed]",
      "text/plain": [
       "<Figure size 597.6x504 with 2 Axes>"
      ]
     },
     "metadata": {
      "needs_background": "light"
     },
     "output_type": "display_data"
    }
   ],
   "source": [
    "cdr_da.isel(time = 0).plot(figsize = (8.3,7))\n",
    "plt.title(\"Before removing flagged data\", fontsize = 16);"
   ]
  },
  {
   "cell_type": "code",
   "execution_count": 9,
   "metadata": {},
   "outputs": [
    {
     "data": {
      "image/png": "[encoded data removed]",
      "text/plain": [
       "<Figure size 597.6x504 with 2 Axes>"
      ]
     },
     "metadata": {
      "needs_background": "light"
     },
     "output_type": "display_data"
    }
   ],
   "source": [
    "# Remove data > 1\n",
    "cdr_da = cdr_da.where(cdr_da <= 1)\n",
    "\n",
    "# Plot\n",
    "cdr_da.isel(time = 0).plot(figsize = (8.3,7))\n",
    "plt.title(\"After removing flagged data\", fontsize = 16);"
   ]
  },
  {
   "cell_type": "markdown",
   "metadata": {},
   "source": [
    "## NSIDC region mask and coordinate tools for the Arctic"
   ]
  },
  {
   "cell_type": "code",
   "execution_count": 10,
   "metadata": {},
   "outputs": [],
   "source": [
    "def getRegionMask(dataPath): \n",
    "    \"\"\"Gets NSIDC region mask for map projection\n",
    "    \n",
    "     Args:\n",
    "         dataPath (str): path to NSIDC region mask\n",
    "         \n",
    "     Returns: \n",
    "         shapedMask (numpy array): NSIDC arctic region mask gridded to shape [448, 304]\n",
    "         shapedLons (numpy array): longitudes gridded to shape [448, 304]\n",
    "         shapedLats (numpy array): latitudes gridded to shape [448, 304] \n",
    "    \"\"\" \n",
    "    gridShape = [448, 304] # Shape of grid to reshape data to \n",
    "    \n",
    "    regionMask = open(dataPath + '/sect_fixed_n.msk', 'rb') # Open region mask \n",
    "    shapedMask = np.reshape(np.fromfile(file = regionMask, dtype='uint8'), gridShape) # Reshape mask to grid shape\n",
    "    \n",
    "    maskLons = open(dataPath + '/psn25lons_v3.dat', 'rb') # Open region mask longitudes\n",
    "    maskLats = open(dataPath + '/psn25lats_v3.dat', 'rb') # Open region mask latitudes\n",
    "    shapedLons = np.reshape(np.fromfile(file = maskLons, dtype='<i4')/100000., gridShape) # Reshape longitudes to grid shape\n",
    "    shapedLats = np.reshape(np.fromfile(file = maskLats, dtype='<i4')/100000., gridShape) # Reshape latitudes to grid shape\n",
    "\n",
    "    return shapedMask, shapedLons, shapedLats"
   ]
  },
  {
   "cell_type": "code",
   "execution_count": 11,
   "metadata": {},
   "outputs": [],
   "source": [
    "# Read in data\n",
    "regionMask, maskLons, maskLats = getRegionMask(regionMask_path)\n",
    "\n",
    "# Coords and attributes for region mask\n",
    "# This will be used later to add as a coordinate to the final dataset \n",
    "regionMaskCoords = {'region_mask': (('y','x'), regionMask)}\n",
    "regionMaskKeys = np.array([0,1, 2, 3, 4, 5, 6, 7, 8, 9, 10, 11, 12, 13, 14, 15, 20, 21])\n",
    "regionMaskLabels = np.array(['Lakes, extended coast','non-region oceans', 'Sea of Okhotsk and Japan','Bering Sea','Hudson Bay','Gulf of St. Lawrence',\n",
    "                    'Baffin Bay, Davis Strait & Labrador Sea','Greenland Sea', 'Barents Seas','Kara Sea','Laptev Sea','East Siberian Sea',\n",
    "                    'Chukchi Sea','Beaufort Sea','Canadian Archipelago','Arctic Ocean','Land','Coast'])\n",
    "regionMaskAttrs = {'description': 'NSIDC region mask for the Arctic', \n",
    "                   'keys': regionMaskKeys, 'labels' : \n",
    "                   regionMaskLabels, 'note': 'keys and labels ordered to match by index'}"
   ]
  },
  {
   "cell_type": "markdown",
   "metadata": {},
   "source": [
    "## ERA5 climate reanalysis "
   ]
  },
  {
   "cell_type": "code",
   "execution_count": 12,
   "metadata": {},
   "outputs": [],
   "source": [
    "# Read data \n",
    "ERA5 = xr.open_dataset(ERA5_path)\n",
    "ERA5 = ERA5.sel(time = date_range) # Select for date range of interest\n",
    "ERA5 = ERA5.sel(expver = 1).drop('expver') # Remove weird variable\n",
    "\n",
    "# Convert t2m temperature from Kelvin to Celcius \n",
    "tempCelcius = ERA5['t2m'] - 283.15\n",
    "tempCelcius.attrs['units'] = 'C' # Change units attribute to C (Celcius)\n",
    "tempCelcius.attrs['long_name'] = '2 meter temperature'\n",
    "ERA5 = ERA5.assign(t2m = tempCelcius) #Add to dataset as a new data variable\n",
    "\n",
    "# Add descriptive attributes \n",
    "ERA5.attrs = {'description': 'era5 monthly averaged data on single levels from 1979 to present', \n",
    "              'website': 'https://cds.climate.copernicus.eu/cdsapp#!/dataset/reanalysis-era5-single-levels-monthly-means?tab=overview', \n",
    "              'contact': 'copernicus-support@ecmwf.int',\n",
    "              'citation': 'Copernicus Climate Change Service (C3S) (2017): ERA5: Fifth generation of ECMWF atmospheric reanalyses of the global climate . Copernicus Climate Change Service Climate Data Store (CDS), July 2020. https://cds.climate.copernicus.eu/cdsapp#!/home'}\n",
    "\n",
    "# Restrict to ICESat-2 latitude \n",
    "ERA5 = ERA5.where(ERA5.latitude > is2_ds.latitude.min())"
   ]
  },
  {
   "cell_type": "markdown",
   "metadata": {},
   "source": [
    "## PIOMAS sea ice thickness "
   ]
  },
  {
   "cell_type": "code",
   "execution_count": 13,
   "metadata": {},
   "outputs": [],
   "source": [
    "def get_piomas_data(date_range, data_dir): \n",
    "    \"\"\" Read in a PIOMAS yearly files and convert to an xr.DataArray object \n",
    "    \n",
    "    Args: \n",
    "        date_range (pandas DatetimeIndex): date range to grab data for \n",
    "        data_dir (str): directory containing data on local drive \n",
    "    \n",
    "    Returns: \n",
    "        PIO_da (xr.DataArray): dataset object containing data for input date range\n",
    "    \n",
    "    \"\"\"\n",
    "\n",
    "    start_year = date_range[0].year\n",
    "    end_year = date_range[-1].year\n",
    "\n",
    "    pio_by_yr = []\n",
    "    for year in range(start_year, end_year+1): \n",
    "\n",
    "        # Most recent year may not have a complete year of data\n",
    "        # We need to reshape the data to match the number of months available, such that the shape of the numpy array is [month, 120, 360]\n",
    "        i = 1\n",
    "        while i <= 12: \n",
    "            data = open(data_dir + 'heff.H' + str(year), 'rb') \n",
    "            try: \n",
    "                pio_np = list(np.fromfile(file = data, dtype='f').reshape([i, 120, 360]))\n",
    "                break\n",
    "            except: \n",
    "                i += 1\n",
    "        pio_by_yr += (pio_np)\n",
    "        \n",
    "    # Get latitude and longitude \n",
    "    gridP = np.loadtxt(data_dir + 'grid.dat.txt')\n",
    "    lonsP = gridP[0:4320, :].flatten()\n",
    "    lonsP = np.reshape(lonsP, [120,360])\n",
    "    latsP = gridP[4320:, :].flatten()\n",
    "    latsP = np.reshape(latsP, [120,360])\n",
    "\n",
    "    # Load dataList as an xr.DataArray and add descriptive attributes and coordinates\n",
    "    time = pd.date_range(start = str(start_year), end = str(end_year) + \"-\" + str(i), freq = 'MS')\n",
    "    PIOMAS_da = xr.DataArray(pio_by_yr, \n",
    "                             dims = ['time','y','x'], \n",
    "                             coords = {'time': time, 'longitude': (('y','x'), lonsP), 'latitude': (('y','x'), latsP)}, \n",
    "                             attrs = {'units': 'meters', \n",
    "                                      'long_name': 'PIOMAS sea ice thickness', \n",
    "                                      'data_download': 'http://psc.apl.uw.edu/research/projects/arctic-sea-ice-volume-anomaly/data/', \n",
    "                                      'download_date': '08-2020',\n",
    "                                       'citation': 'Zhang, J.L. and D.A. Rothrock, “Modeling global sea ice with a thickness and enthalpy distribution model in generalized curvilinear coordinates“, Mon. Weather Rev., 131, 845-861, 2003'}, \n",
    "                             name = \"piomas_ice_thickness\")\n",
    "    PIOMAS_da = PIOMAS_da.sel(time = date_range)\n",
    "\n",
    "    return PIOMAS_da"
   ]
  },
  {
   "cell_type": "code",
   "execution_count": 14,
   "metadata": {},
   "outputs": [],
   "source": [
    "pio_da = get_piomas_data(date_range = date_range, data_dir = PIOMAS_path)\n",
    "pio_da = pio_da.where(pio_da.latitude > is2_ds.latitude.min()) # Restrict to ICESat-2 latitude "
   ]
  },
  {
   "cell_type": "markdown",
   "metadata": {},
   "source": [
    "## NSIDC sea ice motion vectors "
   ]
  },
  {
   "cell_type": "code",
   "execution_count": 15,
   "metadata": {},
   "outputs": [],
   "source": [
    "def get_uv_from_xy(xdrift, ydrift, lon):\n",
    "        \"\"\"convert the drift vectors to zonal/meridional, and calculate magnitude\n",
    "        \"\"\"\n",
    "        alpha = lon*np.pi/180. #convert longitudes to radians \n",
    "        uvelT = ydrift*np.sin(alpha) + xdrift*np.cos(alpha)\n",
    "        vvelT = ydrift*np.cos(alpha) - xdrift*np.sin(alpha)\n",
    "        vectorMag = np.sqrt(uvelT**2 + vvelT**2)\n",
    "        return uvelT, vvelT, vectorMag\n",
    "\n",
    "def getDriftData(dataPath):\n",
    "    \"\"\"Gets weekly NSIDC sea ice drift data for the Arctic, resamples monthly, and returns a dataset\n",
    "    \n",
    "    Args: \n",
    "        dataPath (str): path to local directory of weekly drift data \n",
    "\n",
    "    Returns: \n",
    "        monthlyDrifts (xarray DataArray): sea ice drift data, resampled to monthly means, with descriptive coordinates and attributes\n",
    "        \n",
    "    Note: This function uses two different datasets from the NSIDC for drift in order to get the most recent data. Drift dataset from 1978-2018 was combined with quicklook drift dataset from 2019-present, maintaining attitributes of the 1978-2018 dataset\n",
    "    \"\"\"\n",
    "    \n",
    "    #combine nc weekly files into a single xarray dataset\n",
    "    files = [xr.open_dataset(dataPath + f) for f in os.listdir(dataPath) if os.path.isfile(dataPath + f) and f.endswith('.nc')]\n",
    "    weeklyDrifts = xr.concat(files, dim='time').sortby(\"time\")\n",
    "\n",
    "    #get transformed u,v variables and add to dataset\n",
    "    uvelT, vvelT, vectorMag = get_uv_from_xy(weeklyDrifts.u, weeklyDrifts.v, weeklyDrifts.longitude)\n",
    "    weeklyDrifts = weeklyDrifts.assign(drifts_uT = uvelT, drifts_vT = vvelT, drifts_magnitude = vectorMag)\n",
    "    \n",
    "    #resample to get monthly data \n",
    "    monthlyDrifts = weeklyDrifts.resample(time='MS', keep_attrs = True).mean()\n",
    "\n",
    "    #convert to same time format as ICESat-2 \n",
    "    monthlyDrifts = monthlyDrifts.assign_coords(time = [pd.to_datetime(date.strftime('%m-%d-%Y')) for date in monthlyDrifts.time.values])\n",
    "    \n",
    "    #add attributes\n",
    "    monthlyDrifts.drifts_uT.attrs = {'description':'along-x component of the ice motion (u variable) converted to zonal/meridional', 'units':'cm/s', 'long_name':'sea ice x velocity'}\n",
    "    monthlyDrifts.drifts_vT.attrs = {'description':'along-y component of the ice motion (v variable) converted to zonal/meridional', 'units':'cm/s', 'long_name':'sea ice y velocity'}\n",
    "    monthlyDrifts.drifts_magnitude.attrs = {'long_name': 'drift vector magnitude', 'units':'cm/s'}\n",
    "    monthlyDrifts.attrs['njkeeney comment'] = 'drift dataset from 1978-2018 was combined with quicklook drift dataset from 2019-present, maintaining attitributes of the 1978-2018 dataset'\n",
    "    monthlyDrifts.attrs['citation'] = 'Tschudi, M., W. N. Meier, J. S. Stewart, C. Fowler, and J. Maslanik. 2019. Polar Pathfinder Daily 25 km EASE-Grid Sea Ice Motion Vectors, Version 4. Weekly sea ice motion. Boulder, Colorado USA. NASA National Snow and Ice Data Center Distributed Active Archive Center. doi: https://doi.org/10.5067/INAWUWO7QH7B. July 2020.'\n",
    "    for var in monthlyDrifts.data_vars: \n",
    "        if var not in ['drifts_magnitude','drifts_uT', 'drifts_vT']: \n",
    "            monthlyDrifts[var].attrs = weeklyDrifts[var].attrs #resampling function causes attributes to be lost, so add them back here\n",
    "    \n",
    "    return monthlyDrifts"
   ]
  },
  {
   "cell_type": "code",
   "execution_count": 16,
   "metadata": {},
   "outputs": [],
   "source": [
    "drifts = getDriftData(drift_path)   # Read data\n",
    "drifts = drifts.sel(time = date_range) # Restrict data to winter months\n",
    "drifts = drifts.where(drifts.latitude > is2_ds.latitude.min()) # Restrict to ICESat-2 latitude "
   ]
  },
  {
   "cell_type": "markdown",
   "metadata": {},
   "source": [
    "# 3) Regrid all datasets to ICESat-2 grid \n",
    "In order to merge all the datasets into a singe netcdf4 file, they need to be on the same grid.  "
   ]
  },
  {
   "cell_type": "code",
   "execution_count": 17,
   "metadata": {},
   "outputs": [],
   "source": [
    "def regridToICESat2(dataArrayNEW, xptsNEW, yptsNEW, xptsIS2, yptsIS2):  \n",
    "    \"\"\" Regrid new data to ICESat-2 grid \n",
    "    \n",
    "    Args: \n",
    "        dataArrayNEW (xarray DataArray): DataArray to be gridded to ICESat-2 grid \n",
    "        xptsNEW (numpy array): x-values of dataArrayNEW projected to ICESat-2 map projection \n",
    "        yptsNEW (numpy array): y-values of dataArrayNEW projected to ICESat-2 map projection \n",
    "        xptsIS2 (numpy array): ICESat-2 longitude projected to ICESat-2 map projection\n",
    "        yptsIS2 (numpy array): ICESat-2 latitude projected to ICESat-2 map projection\n",
    "    \n",
    "    Returns: \n",
    "        gridded (numpy array): data regridded to ICESat-2 map projection\n",
    "    \n",
    "    \"\"\"\n",
    "    gridded = []\n",
    "    for i in range(len(dataArrayNEW.values)): \n",
    "        monthlyGridded = scipy.interpolate.griddata((xptsNEW.flatten(),yptsNEW.flatten()), dataArrayNEW.values[i].flatten(), (xptsIS2, yptsIS2), method = 'nearest')\n",
    "        gridded.append(monthlyGridded)\n",
    "    gridded = np.array(gridded)\n",
    "    return gridded"
   ]
  },
  {
   "cell_type": "markdown",
   "metadata": {},
   "source": [
    "## Sea ice concentration \n",
    "These datasets are on the same grid but have slightly different lat/lon values"
   ]
  },
  {
   "cell_type": "code",
   "execution_count": 18,
   "metadata": {},
   "outputs": [],
   "source": [
    "#map projection from ICESat-2 data (can be viewed in is2.projection.attrs['srid'])\n",
    "out_proj = 'EPSG:3411'\n",
    "out_lons = is2_ds.longitude\n",
    "out_lats = is2_ds.latitude\n",
    "\n",
    "#initialize map projection and project data to it\n",
    "mapProj = pyproj.Proj(\"+init=\" + out_proj)\n",
    "xptsIS2, yptsIS2 = mapProj(out_lons, out_lats)\n",
    "xptsCDR, yptsCDR = mapProj(cdr_da.longitude.values, cdr_da.latitude.values)\n",
    "\n",
    "#regrid data \n",
    "cdr_regridded = regridToICESat2(cdr_da, xptsCDR, yptsCDR, xptsIS2, yptsIS2)\n",
    "cdr_regridded = xr.DataArray(data = cdr_regridded, \n",
    "                             dims = ['time', 'y', 'x'], \n",
    "                             coords = {'latitude': (('y','x'), out_lats), 'longitude': (('y','x'), out_lons), 'time': pio_da.time.values}, \n",
    "                             name = cdr_da.name)\n",
    "cdr_regridded = cdr_regridded.to_dataset()"
   ]
  },
  {
   "cell_type": "markdown",
   "metadata": {},
   "source": [
    "## ERA5 climate reanalysis"
   ]
  },
  {
   "cell_type": "code",
   "execution_count": 19,
   "metadata": {},
   "outputs": [],
   "source": [
    "# Choose data variables of interest \n",
    "ERA5Vars = ['t2m','msdwlwrf']\n",
    "\n",
    "#initialize map projection and project data to it\n",
    "mapProj = pyproj.Proj(\"+init=\" + out_proj)\n",
    "xptsERA, yptsERA = mapProj(*np.meshgrid(ERA5.longitude.values, ERA5.latitude.values))\n",
    "xptsIS2, yptsIS2 = mapProj(out_lons, out_lats)\n",
    "\n",
    "ERA5_list = []\n",
    "for var in ERA5Vars: \n",
    "    ERA5gridded = regridToICESat2(ERA5[var], xptsERA, yptsERA, xptsIS2, yptsIS2) \n",
    "    ERAArray = xr.DataArray(data = ERA5gridded, \n",
    "                            dims = ['time', 'y', 'x'], \n",
    "                            coords = {'latitude': (('y','x'), out_lats), 'longitude': (('y','x'), out_lons), 'time':ERA5.time.values}, \n",
    "                            name = var)\n",
    "    ERAArray.attrs = ERA5[var].attrs # Maintain descriptive attributes\n",
    "    ERAArray = ERAArray.assign_attrs(ERA5.attrs)\n",
    "    ERA5_list.append(ERAArray)\n",
    "ERA5_regridded = xr.merge(ERA5_list)"
   ]
  },
  {
   "cell_type": "markdown",
   "metadata": {},
   "source": [
    "## PIOMAS sea ice thickness "
   ]
  },
  {
   "cell_type": "code",
   "execution_count": 20,
   "metadata": {},
   "outputs": [],
   "source": [
    "#project data to ICESat-2 map projection\n",
    "xptsPIO, yptsPIO = mapProj(pio_da.longitude.values, pio_da.latitude.values)\n",
    "\n",
    "#regrid data \n",
    "pio_regridded = regridToICESat2(pio_da, xptsPIO, yptsPIO, xptsIS2, yptsIS2)\n",
    "pio_regridded = xr.DataArray(data = pio_regridded, \n",
    "                             dims = ['time', 'y', 'x'], \n",
    "                             coords = {'latitude': (('y','x'), out_lats), 'longitude': (('y','x'), out_lons), 'time': pio_da.time.values}, \n",
    "                             name = pio_da.name)\n",
    "pio_regridded = pio_regridded.assign_attrs(pio_da.attrs)\n",
    "pio_regridded = pio_regridded.to_dataset()"
   ]
  },
  {
   "cell_type": "markdown",
   "metadata": {},
   "source": [
    "## Sea ice motion vectors"
   ]
  },
  {
   "cell_type": "code",
   "execution_count": 21,
   "metadata": {},
   "outputs": [],
   "source": [
    "#project data to ICESat-2 map projection\n",
    "xptsDRIFTS, yptsDRIFTS = mapProj(drifts.longitude.values[0], drifts.latitude.values[0])\n",
    "\n",
    "# Loop through variables of interest and regrid \n",
    "drifts_list = []\n",
    "for var in ['drifts_uT', 'drifts_vT', 'drifts_magnitude']: \n",
    "    driftsGridded = regridToICESat2(drifts[var], xptsDRIFTS, yptsDRIFTS, xptsIS2, yptsIS2)\n",
    "    driftsArray = xr.DataArray(data = driftsGridded, \n",
    "                               dims = ['time', 'y', 'x'], \n",
    "                               coords = {'latitude': (('y','x'), out_lats), 'longitude': (('y','x'), out_lons), \"time\": drifts.time.values}, \n",
    "                               name = var)\n",
    "    driftsArray.attrs = drifts[var].attrs\n",
    "    driftsArray = driftsArray.assign_attrs(drifts.attrs)\n",
    "    drifts_list.append(driftsArray)\n",
    "\n",
    "drifts_regridded = xr.merge(drifts_list)"
   ]
  },
  {
   "cell_type": "markdown",
   "metadata": {},
   "source": [
    "# 4) Compile and save final dataset\n",
    "Now that all the data is on the same grid, we can use xarray to merge all the datasets. We'll also add the region mask as a coordinate."
   ]
  },
  {
   "cell_type": "markdown",
   "metadata": {},
   "source": [
    "## Combine datasets"
   ]
  },
  {
   "cell_type": "code",
   "execution_count": 22,
   "metadata": {},
   "outputs": [],
   "source": [
    "final_ds = xr.merge([cdr_regridded, pio_regridded, ERA5_regridded, drifts_regridded])"
   ]
  },
  {
   "cell_type": "markdown",
   "metadata": {},
   "source": [
    "## Add region mask as a coordinate to the final dataset\n",
    "This allows the user to easily mask regions when analyzing the data. See the region masking notebook for more information on the utility of this."
   ]
  },
  {
   "cell_type": "code",
   "execution_count": 23,
   "metadata": {},
   "outputs": [
    {
     "name": "stdout",
     "output_type": "stream",
     "text": [
      "<xarray.Dataset>\n",
      "Dimensions:                  (time: 28, x: 304, y: 448)\n",
      "Coordinates:\n",
      "    latitude                 (y, x) float32 31.1 31.2 31.3 ... 34.68 34.58 34.47\n",
      "    longitude                (y, x) float32 168.3 168.1 168.0 ... -10.18 -9.999\n",
      "  * time                     (time) datetime64[ns] 2018-09-01 ... 2020-12-01\n",
      "    region_mask              (y, x) uint8 1 1 1 1 1 1 1 1 1 ... 1 1 1 1 1 1 1 1\n",
      "Dimensions without coordinates: x, y\n",
      "Data variables:\n",
      "    cdr_seaice_conc_monthly  (time, y, x) float32 nan 0.0 0.0 ... 0.0 0.0 0.0\n",
      "    piomas_ice_thickness     (time, y, x) float32 0.0 0.0 0.0 ... 0.0 0.0 0.0\n",
      "    t2m                      (time, y, x) float32 nan 15.69 ... 7.397 7.398\n",
      "    msdwlwrf                 (time, y, x) float32 nan 406.3 ... 339.6 339.2\n",
      "    drifts_uT                (time, y, x) float32 nan nan nan ... nan nan nan\n",
      "    drifts_vT                (time, y, x) float32 nan nan nan ... nan nan nan\n",
      "    drifts_magnitude         (time, y, x) float32 nan nan nan ... nan nan nan\n",
      "Attributes:\n",
      "    description:    Data used in ICESat-2 jupyter book\n",
      "    note:           See individual data variables for references\n",
      "    creation date:  2021-08-23\n"
     ]
    }
   ],
   "source": [
    "final_ds = final_ds.assign_coords(coords = regionMaskCoords)\n",
    "final_ds.region_mask.attrs = regionMaskAttrs\n",
    "final_ds.attrs = {'description':'Data used in ICESat-2 jupyter book', \n",
    "                  'note': 'See individual data variables for references', \n",
    "                  'creation date': str(date.today())}\n",
    "print(final_ds)"
   ]
  },
  {
   "cell_type": "markdown",
   "metadata": {},
   "source": [
    "## Save data to local machine as a netcdf4 file\n",
    "We also uploaded this same file to the google storage bucket. "
   ]
  },
  {
   "cell_type": "code",
   "execution_count": 24,
   "metadata": {},
   "outputs": [
    {
     "name": "stdout",
     "output_type": "stream",
     "text": [
      "File \"icesat2-book-data.nc\" saved to directory \"../icesat2-book-data/\"\n"
     ]
    }
   ],
   "source": [
    "filename = 'icesat2-book-data.nc'\n",
    "final_ds.to_netcdf(path=filename, format='NETCDF4', mode='w')\n",
    "print('File ' + '\"%s\"' % filename + ' saved to directory ' + '\"%s\"' % localDirectory)"
   ]
  }
 ],
 "metadata": {
  "celltoolbar": "Tags",
  "kernelspec": {
   "display_name": "Python 3",
   "language": "python",
   "name": "python3"
  },
  "language_info": {
   "codemirror_mode": {
    "name": "ipython",
    "version": 3
   },
   "file_extension": ".py",
   "mimetype": "text/x-python",
   "name": "python",
   "nbconvert_exporter": "python",
   "pygments_lexer": "ipython3",
   "version": "3.8.10"
  }
 },
 "nbformat": 4,
 "nbformat_minor": 4
}
